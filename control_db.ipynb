{
 "cells": [
  {
   "cell_type": "code",
   "execution_count": 6,
   "metadata": {},
   "outputs": [],
   "source": [
    "import sqlite3\n",
    "con = sqlite3.connect('./test_db')"
   ]
  },
  {
   "cell_type": "code",
   "execution_count": 7,
   "metadata": {},
   "outputs": [],
   "source": [
    "cur = con.cursor()"
   ]
  },
  {
   "cell_type": "code",
   "execution_count": 8,
   "metadata": {},
   "outputs": [
    {
     "data": {
      "text/plain": [
       "<sqlite3.Cursor at 0x7f397dc94240>"
      ]
     },
     "execution_count": 8,
     "metadata": {},
     "output_type": "execute_result"
    }
   ],
   "source": [
    "cur.execute('CREATE TABLE human (id INT PRIMARY KEY, name TEXT NOT NULL, height REAL, weight REAL)')\n",
    "cur.execute(\"INSERT INTO human VALUES(1, 'a',10.10, 40.40)\")\n",
    "cur.execute(\"INSERT INTO human VALUES(2, 'b', NULL, 50.50);\")\n",
    "cur.execute(\"INSERT INTO human VALUES(3, 'c', 30.30, NULL);\")"
   ]
  },
  {
   "cell_type": "code",
   "execution_count": 9,
   "metadata": {},
   "outputs": [
    {
     "name": "stdout",
     "output_type": "stream",
     "text": [
      "(1, 'a', 10.1, 40.4)\n",
      "1\n",
      "a\n",
      "10.1\n",
      "40.4\n",
      "(2, 'b', None, 50.5)\n",
      "2\n",
      "b\n",
      "None\n",
      "50.5\n",
      "(3, 'c', 30.3, None)\n",
      "3\n",
      "c\n",
      "30.3\n",
      "None\n"
     ]
    }
   ],
   "source": [
    "\n",
    "for row in cur.execute('SELECT * FROM human'):\n",
    "    print(row)\n",
    "    for column in row:\n",
    "        print(column)"
   ]
  },
  {
   "cell_type": "code",
   "execution_count": null,
   "metadata": {},
   "outputs": [],
   "source": []
  },
  {
   "cell_type": "code",
   "execution_count": 10,
   "metadata": {},
   "outputs": [
    {
     "data": {
      "text/plain": [
       "<sqlite3.Cursor at 0x7f397dc94240>"
      ]
     },
     "execution_count": 10,
     "metadata": {},
     "output_type": "execute_result"
    }
   ],
   "source": [
    "insert_sql = 'INSERT INTO human VALUES(?,?,?,?)'\n",
    "insert_param = (100, 'name_z', 99.9, 80.0)\n",
    "cur.execute(insert_sql, insert_param)"
   ]
  },
  {
   "cell_type": "code",
   "execution_count": 11,
   "metadata": {},
   "outputs": [],
   "source": [
    "con.commit()"
   ]
  },
  {
   "cell_type": "code",
   "execution_count": 12,
   "metadata": {},
   "outputs": [
    {
     "name": "stdout",
     "output_type": "stream",
     "text": [
      "[(1, 'a', 10.1, 40.4), (3, 'c', 30.3, None), (100, 'name_z', 99.9, 80.0)]\n"
     ]
    }
   ],
   "source": [
    "cur.execute('SELECT * FROM human WHERE height > :height', {'height':10})\n",
    "print(cur.fetchall())"
   ]
  },
  {
   "cell_type": "code",
   "execution_count": 13,
   "metadata": {},
   "outputs": [],
   "source": [
    "# con.close()\n",
    "# クローズしたのでエラーになる\n",
    "# cur.execute('SELECT * FROM human WHERE height > :height', {'height':10})"
   ]
  },
  {
   "cell_type": "code",
   "execution_count": 14,
   "metadata": {},
   "outputs": [],
   "source": [
    "\n",
    "cur.execute('UPDATE human SET name = :changed_name WHERE id=1',{'changed_name':'changed_name'})\n",
    "con.commit()"
   ]
  },
  {
   "cell_type": "code",
   "execution_count": 15,
   "metadata": {},
   "outputs": [
    {
     "data": {
      "text/plain": [
       "<sqlite3.Cursor at 0x7f397dc94240>"
      ]
     },
     "execution_count": 15,
     "metadata": {},
     "output_type": "execute_result"
    }
   ],
   "source": [
    "cur.execute('DELETE FROM human WHERE name=:name',{'name':'c'})"
   ]
  },
  {
   "cell_type": "code",
   "execution_count": 16,
   "metadata": {},
   "outputs": [],
   "source": [
    "con.commit()"
   ]
  },
  {
   "cell_type": "code",
   "execution_count": 17,
   "metadata": {},
   "outputs": [],
   "source": [
    "con.close()"
   ]
  }
 ],
 "metadata": {
  "kernelspec": {
   "display_name": ".venv",
   "language": "python",
   "name": "python3"
  },
  "language_info": {
   "codemirror_mode": {
    "name": "ipython",
    "version": 3
   },
   "file_extension": ".py",
   "mimetype": "text/x-python",
   "name": "python",
   "nbconvert_exporter": "python",
   "pygments_lexer": "ipython3",
   "version": "3.10.6"
  }
 },
 "nbformat": 4,
 "nbformat_minor": 2
}
