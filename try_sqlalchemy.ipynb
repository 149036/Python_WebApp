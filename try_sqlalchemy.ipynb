{
 "cells": [
  {
   "cell_type": "code",
   "execution_count": 26,
   "metadata": {},
   "outputs": [],
   "source": [
    "from sqlalchemy import create_engine\n",
    "from sqlalchemy.orm import Session\n",
    "from test_model import Person\n",
    "from test_model import Human\n"
   ]
  },
  {
   "cell_type": "code",
   "execution_count": null,
   "metadata": {},
   "outputs": [],
   "source": []
  },
  {
   "cell_type": "code",
   "execution_count": 27,
   "metadata": {},
   "outputs": [],
   "source": [
    "engine = create_engine('sqlite:///test_db',echo=True)\n",
    "#Pythonを使用しての開発 Webアプリ２ 20ページ"
   ]
  },
  {
   "cell_type": "code",
   "execution_count": 28,
   "metadata": {},
   "outputs": [],
   "source": [
    "session = Session(engine)"
   ]
  },
  {
   "cell_type": "code",
   "execution_count": 21,
   "metadata": {},
   "outputs": [
    {
     "name": "stdout",
     "output_type": "stream",
     "text": [
      "2023-10-14 16:50:52,274 INFO sqlalchemy.engine.Engine BEGIN (implicit)\n",
      "2023-10-14 16:50:52,277 INFO sqlalchemy.engine.Engine SELECT human.id AS human_id, human.name AS human_name, human.height AS human_height, human.weight AS human_weight \n",
      "FROM human\n",
      "2023-10-14 16:50:52,278 INFO sqlalchemy.engine.Engine [generated in 0.00134s] ()\n"
     ]
    }
   ],
   "source": [
    "persons = session.query(Human).all()\n"
   ]
  },
  {
   "cell_type": "code",
   "execution_count": 22,
   "metadata": {},
   "outputs": [
    {
     "name": "stdout",
     "output_type": "stream",
     "text": [
      "id:100 name:name_z size:99.9\n",
      "id:4 name:from_model size:100.0\n"
     ]
    }
   ],
   "source": [
    "for person in persons:\n",
    "    print(f'id:{person.id} name:{person.name} size:{person.height}')"
   ]
  },
  {
   "cell_type": "code",
   "execution_count": 23,
   "metadata": {},
   "outputs": [],
   "source": [
    "new_person = Human(id=4,name='from_model',height=100,weight=70)"
   ]
  },
  {
   "cell_type": "code",
   "execution_count": 24,
   "metadata": {},
   "outputs": [],
   "source": [
    "session.add(new_person)"
   ]
  },
  {
   "cell_type": "code",
   "execution_count": 25,
   "metadata": {},
   "outputs": [
    {
     "name": "stdout",
     "output_type": "stream",
     "text": [
      "2023-10-14 16:50:52,532 INFO sqlalchemy.engine.Engine INSERT INTO human (id, name, height, weight) VALUES (?, ?, ?, ?)\n",
      "2023-10-14 16:50:52,534 INFO sqlalchemy.engine.Engine [generated in 0.00245s] (4, 'from_model', 100.0, 70.0)\n",
      "2023-10-14 16:50:52,536 INFO sqlalchemy.engine.Engine ROLLBACK\n"
     ]
    },
    {
     "name": "stderr",
     "output_type": "stream",
     "text": [
      "/tmp/ipykernel_23871/1006174258.py:1: SAWarning: New instance <Human at 0x7fd6d0e8ceb0> with identity key (<class 'test_model.Human'>, (4,), None) conflicts with persistent instance <Human at 0x7fd6d0e8db10>\n",
      "  session.commit()\n"
     ]
    },
    {
     "ename": "IntegrityError",
     "evalue": "(sqlite3.IntegrityError) UNIQUE constraint failed: human.id\n[SQL: INSERT INTO human (id, name, height, weight) VALUES (?, ?, ?, ?)]\n[parameters: (4, 'from_model', 100.0, 70.0)]\n(Background on this error at: https://sqlalche.me/e/14/gkpj)",
     "output_type": "error",
     "traceback": [
      "\u001b[0;31m---------------------------------------------------------------------------\u001b[0m",
      "\u001b[0;31mIntegrityError\u001b[0m                            Traceback (most recent call last)",
      "File \u001b[0;32m~/_P/Python_WebApp/venv/lib/python3.10/site-packages/sqlalchemy/engine/base.py:1910\u001b[0m, in \u001b[0;36mConnection._execute_context\u001b[0;34m(self, dialect, constructor, statement, parameters, execution_options, *args, **kw)\u001b[0m\n\u001b[1;32m   1909\u001b[0m     \u001b[39mif\u001b[39;00m \u001b[39mnot\u001b[39;00m evt_handled:\n\u001b[0;32m-> 1910\u001b[0m         \u001b[39mself\u001b[39;49m\u001b[39m.\u001b[39;49mdialect\u001b[39m.\u001b[39;49mdo_execute(\n\u001b[1;32m   1911\u001b[0m             cursor, statement, parameters, context\n\u001b[1;32m   1912\u001b[0m         )\n\u001b[1;32m   1914\u001b[0m \u001b[39mif\u001b[39;00m \u001b[39mself\u001b[39m\u001b[39m.\u001b[39m_has_events \u001b[39mor\u001b[39;00m \u001b[39mself\u001b[39m\u001b[39m.\u001b[39mengine\u001b[39m.\u001b[39m_has_events:\n",
      "File \u001b[0;32m~/_P/Python_WebApp/venv/lib/python3.10/site-packages/sqlalchemy/engine/default.py:736\u001b[0m, in \u001b[0;36mDefaultDialect.do_execute\u001b[0;34m(self, cursor, statement, parameters, context)\u001b[0m\n\u001b[1;32m    735\u001b[0m \u001b[39mdef\u001b[39;00m \u001b[39mdo_execute\u001b[39m(\u001b[39mself\u001b[39m, cursor, statement, parameters, context\u001b[39m=\u001b[39m\u001b[39mNone\u001b[39;00m):\n\u001b[0;32m--> 736\u001b[0m     cursor\u001b[39m.\u001b[39;49mexecute(statement, parameters)\n",
      "\u001b[0;31mIntegrityError\u001b[0m: UNIQUE constraint failed: human.id",
      "\nThe above exception was the direct cause of the following exception:\n",
      "\u001b[0;31mIntegrityError\u001b[0m                            Traceback (most recent call last)",
      "\u001b[1;32m/home/cre/_P/Python_WebApp/try_sqlalchemy.ipynb セル 9\u001b[0m line \u001b[0;36m1\n\u001b[0;32m----> <a href='vscode-notebook-cell://wsl%2Bubuntu-22.04/home/cre/_P/Python_WebApp/try_sqlalchemy.ipynb#X10sdnNjb2RlLXJlbW90ZQ%3D%3D?line=0'>1</a>\u001b[0m session\u001b[39m.\u001b[39;49mcommit()\n",
      "File \u001b[0;32m~/_P/Python_WebApp/venv/lib/python3.10/site-packages/sqlalchemy/orm/session.py:1454\u001b[0m, in \u001b[0;36mSession.commit\u001b[0;34m(self)\u001b[0m\n\u001b[1;32m   1451\u001b[0m     \u001b[39mif\u001b[39;00m \u001b[39mnot\u001b[39;00m \u001b[39mself\u001b[39m\u001b[39m.\u001b[39m_autobegin():\n\u001b[1;32m   1452\u001b[0m         \u001b[39mraise\u001b[39;00m sa_exc\u001b[39m.\u001b[39mInvalidRequestError(\u001b[39m\"\u001b[39m\u001b[39mNo transaction is begun.\u001b[39m\u001b[39m\"\u001b[39m)\n\u001b[0;32m-> 1454\u001b[0m \u001b[39mself\u001b[39;49m\u001b[39m.\u001b[39;49m_transaction\u001b[39m.\u001b[39;49mcommit(_to_root\u001b[39m=\u001b[39;49m\u001b[39mself\u001b[39;49m\u001b[39m.\u001b[39;49mfuture)\n",
      "File \u001b[0;32m~/_P/Python_WebApp/venv/lib/python3.10/site-packages/sqlalchemy/orm/session.py:832\u001b[0m, in \u001b[0;36mSessionTransaction.commit\u001b[0;34m(self, _to_root)\u001b[0m\n\u001b[1;32m    830\u001b[0m \u001b[39mself\u001b[39m\u001b[39m.\u001b[39m_assert_active(prepared_ok\u001b[39m=\u001b[39m\u001b[39mTrue\u001b[39;00m)\n\u001b[1;32m    831\u001b[0m \u001b[39mif\u001b[39;00m \u001b[39mself\u001b[39m\u001b[39m.\u001b[39m_state \u001b[39mis\u001b[39;00m \u001b[39mnot\u001b[39;00m PREPARED:\n\u001b[0;32m--> 832\u001b[0m     \u001b[39mself\u001b[39;49m\u001b[39m.\u001b[39;49m_prepare_impl()\n\u001b[1;32m    834\u001b[0m \u001b[39mif\u001b[39;00m \u001b[39mself\u001b[39m\u001b[39m.\u001b[39m_parent \u001b[39mis\u001b[39;00m \u001b[39mNone\u001b[39;00m \u001b[39mor\u001b[39;00m \u001b[39mself\u001b[39m\u001b[39m.\u001b[39mnested:\n\u001b[1;32m    835\u001b[0m     \u001b[39mfor\u001b[39;00m conn, trans, should_commit, autoclose \u001b[39min\u001b[39;00m \u001b[39mset\u001b[39m(\n\u001b[1;32m    836\u001b[0m         \u001b[39mself\u001b[39m\u001b[39m.\u001b[39m_connections\u001b[39m.\u001b[39mvalues()\n\u001b[1;32m    837\u001b[0m     ):\n",
      "File \u001b[0;32m~/_P/Python_WebApp/venv/lib/python3.10/site-packages/sqlalchemy/orm/session.py:811\u001b[0m, in \u001b[0;36mSessionTransaction._prepare_impl\u001b[0;34m(self)\u001b[0m\n\u001b[1;32m    809\u001b[0m     \u001b[39mif\u001b[39;00m \u001b[39mself\u001b[39m\u001b[39m.\u001b[39msession\u001b[39m.\u001b[39m_is_clean():\n\u001b[1;32m    810\u001b[0m         \u001b[39mbreak\u001b[39;00m\n\u001b[0;32m--> 811\u001b[0m     \u001b[39mself\u001b[39;49m\u001b[39m.\u001b[39;49msession\u001b[39m.\u001b[39;49mflush()\n\u001b[1;32m    812\u001b[0m \u001b[39melse\u001b[39;00m:\n\u001b[1;32m    813\u001b[0m     \u001b[39mraise\u001b[39;00m exc\u001b[39m.\u001b[39mFlushError(\n\u001b[1;32m    814\u001b[0m         \u001b[39m\"\u001b[39m\u001b[39mOver 100 subsequent flushes have occurred within \u001b[39m\u001b[39m\"\u001b[39m\n\u001b[1;32m    815\u001b[0m         \u001b[39m\"\u001b[39m\u001b[39msession.commit() - is an after_flush() hook \u001b[39m\u001b[39m\"\u001b[39m\n\u001b[1;32m    816\u001b[0m         \u001b[39m\"\u001b[39m\u001b[39mcreating new objects?\u001b[39m\u001b[39m\"\u001b[39m\n\u001b[1;32m    817\u001b[0m     )\n",
      "File \u001b[0;32m~/_P/Python_WebApp/venv/lib/python3.10/site-packages/sqlalchemy/orm/session.py:3449\u001b[0m, in \u001b[0;36mSession.flush\u001b[0;34m(self, objects)\u001b[0m\n\u001b[1;32m   3447\u001b[0m \u001b[39mtry\u001b[39;00m:\n\u001b[1;32m   3448\u001b[0m     \u001b[39mself\u001b[39m\u001b[39m.\u001b[39m_flushing \u001b[39m=\u001b[39m \u001b[39mTrue\u001b[39;00m\n\u001b[0;32m-> 3449\u001b[0m     \u001b[39mself\u001b[39;49m\u001b[39m.\u001b[39;49m_flush(objects)\n\u001b[1;32m   3450\u001b[0m \u001b[39mfinally\u001b[39;00m:\n\u001b[1;32m   3451\u001b[0m     \u001b[39mself\u001b[39m\u001b[39m.\u001b[39m_flushing \u001b[39m=\u001b[39m \u001b[39mFalse\u001b[39;00m\n",
      "File \u001b[0;32m~/_P/Python_WebApp/venv/lib/python3.10/site-packages/sqlalchemy/orm/session.py:3588\u001b[0m, in \u001b[0;36mSession._flush\u001b[0;34m(self, objects)\u001b[0m\n\u001b[1;32m   3585\u001b[0m     transaction\u001b[39m.\u001b[39mcommit()\n\u001b[1;32m   3587\u001b[0m \u001b[39mexcept\u001b[39;00m:\n\u001b[0;32m-> 3588\u001b[0m     \u001b[39mwith\u001b[39;00m util\u001b[39m.\u001b[39msafe_reraise():\n\u001b[1;32m   3589\u001b[0m         transaction\u001b[39m.\u001b[39mrollback(_capture_exception\u001b[39m=\u001b[39m\u001b[39mTrue\u001b[39;00m)\n",
      "File \u001b[0;32m~/_P/Python_WebApp/venv/lib/python3.10/site-packages/sqlalchemy/util/langhelpers.py:70\u001b[0m, in \u001b[0;36msafe_reraise.__exit__\u001b[0;34m(self, type_, value, traceback)\u001b[0m\n\u001b[1;32m     68\u001b[0m     \u001b[39mself\u001b[39m\u001b[39m.\u001b[39m_exc_info \u001b[39m=\u001b[39m \u001b[39mNone\u001b[39;00m  \u001b[39m# remove potential circular references\u001b[39;00m\n\u001b[1;32m     69\u001b[0m     \u001b[39mif\u001b[39;00m \u001b[39mnot\u001b[39;00m \u001b[39mself\u001b[39m\u001b[39m.\u001b[39mwarn_only:\n\u001b[0;32m---> 70\u001b[0m         compat\u001b[39m.\u001b[39;49mraise_(\n\u001b[1;32m     71\u001b[0m             exc_value,\n\u001b[1;32m     72\u001b[0m             with_traceback\u001b[39m=\u001b[39;49mexc_tb,\n\u001b[1;32m     73\u001b[0m         )\n\u001b[1;32m     74\u001b[0m \u001b[39melse\u001b[39;00m:\n\u001b[1;32m     75\u001b[0m     \u001b[39mif\u001b[39;00m \u001b[39mnot\u001b[39;00m compat\u001b[39m.\u001b[39mpy3k \u001b[39mand\u001b[39;00m \u001b[39mself\u001b[39m\u001b[39m.\u001b[39m_exc_info \u001b[39mand\u001b[39;00m \u001b[39mself\u001b[39m\u001b[39m.\u001b[39m_exc_info[\u001b[39m1\u001b[39m]:\n\u001b[1;32m     76\u001b[0m         \u001b[39m# emulate Py3K's behavior of telling us when an exception\u001b[39;00m\n\u001b[1;32m     77\u001b[0m         \u001b[39m# occurs in an exception handler.\u001b[39;00m\n",
      "File \u001b[0;32m~/_P/Python_WebApp/venv/lib/python3.10/site-packages/sqlalchemy/util/compat.py:211\u001b[0m, in \u001b[0;36mraise_\u001b[0;34m(***failed resolving arguments***)\u001b[0m\n\u001b[1;32m    208\u001b[0m     exception\u001b[39m.\u001b[39m__cause__ \u001b[39m=\u001b[39m replace_context\n\u001b[1;32m    210\u001b[0m \u001b[39mtry\u001b[39;00m:\n\u001b[0;32m--> 211\u001b[0m     \u001b[39mraise\u001b[39;00m exception\n\u001b[1;32m    212\u001b[0m \u001b[39mfinally\u001b[39;00m:\n\u001b[1;32m    213\u001b[0m     \u001b[39m# credit to\u001b[39;00m\n\u001b[1;32m    214\u001b[0m     \u001b[39m# https://cosmicpercolator.com/2016/01/13/exception-leaks-in-python-2-and-3/\u001b[39;00m\n\u001b[1;32m    215\u001b[0m     \u001b[39m# as the __traceback__ object creates a cycle\u001b[39;00m\n\u001b[1;32m    216\u001b[0m     \u001b[39mdel\u001b[39;00m exception, replace_context, from_, with_traceback\n",
      "File \u001b[0;32m~/_P/Python_WebApp/venv/lib/python3.10/site-packages/sqlalchemy/orm/session.py:3549\u001b[0m, in \u001b[0;36mSession._flush\u001b[0;34m(self, objects)\u001b[0m\n\u001b[1;32m   3547\u001b[0m \u001b[39mself\u001b[39m\u001b[39m.\u001b[39m_warn_on_events \u001b[39m=\u001b[39m \u001b[39mTrue\u001b[39;00m\n\u001b[1;32m   3548\u001b[0m \u001b[39mtry\u001b[39;00m:\n\u001b[0;32m-> 3549\u001b[0m     flush_context\u001b[39m.\u001b[39;49mexecute()\n\u001b[1;32m   3550\u001b[0m \u001b[39mfinally\u001b[39;00m:\n\u001b[1;32m   3551\u001b[0m     \u001b[39mself\u001b[39m\u001b[39m.\u001b[39m_warn_on_events \u001b[39m=\u001b[39m \u001b[39mFalse\u001b[39;00m\n",
      "File \u001b[0;32m~/_P/Python_WebApp/venv/lib/python3.10/site-packages/sqlalchemy/orm/unitofwork.py:456\u001b[0m, in \u001b[0;36mUOWTransaction.execute\u001b[0;34m(self)\u001b[0m\n\u001b[1;32m    454\u001b[0m \u001b[39melse\u001b[39;00m:\n\u001b[1;32m    455\u001b[0m     \u001b[39mfor\u001b[39;00m rec \u001b[39min\u001b[39;00m topological\u001b[39m.\u001b[39msort(\u001b[39mself\u001b[39m\u001b[39m.\u001b[39mdependencies, postsort_actions):\n\u001b[0;32m--> 456\u001b[0m         rec\u001b[39m.\u001b[39;49mexecute(\u001b[39mself\u001b[39;49m)\n",
      "File \u001b[0;32m~/_P/Python_WebApp/venv/lib/python3.10/site-packages/sqlalchemy/orm/unitofwork.py:630\u001b[0m, in \u001b[0;36mSaveUpdateAll.execute\u001b[0;34m(self, uow)\u001b[0m\n\u001b[1;32m    628\u001b[0m \u001b[39m@util\u001b[39m\u001b[39m.\u001b[39mpreload_module(\u001b[39m\"\u001b[39m\u001b[39msqlalchemy.orm.persistence\u001b[39m\u001b[39m\"\u001b[39m)\n\u001b[1;32m    629\u001b[0m \u001b[39mdef\u001b[39;00m \u001b[39mexecute\u001b[39m(\u001b[39mself\u001b[39m, uow):\n\u001b[0;32m--> 630\u001b[0m     util\u001b[39m.\u001b[39;49mpreloaded\u001b[39m.\u001b[39;49morm_persistence\u001b[39m.\u001b[39;49msave_obj(\n\u001b[1;32m    631\u001b[0m         \u001b[39mself\u001b[39;49m\u001b[39m.\u001b[39;49mmapper,\n\u001b[1;32m    632\u001b[0m         uow\u001b[39m.\u001b[39;49mstates_for_mapper_hierarchy(\u001b[39mself\u001b[39;49m\u001b[39m.\u001b[39;49mmapper, \u001b[39mFalse\u001b[39;49;00m, \u001b[39mFalse\u001b[39;49;00m),\n\u001b[1;32m    633\u001b[0m         uow,\n\u001b[1;32m    634\u001b[0m     )\n",
      "File \u001b[0;32m~/_P/Python_WebApp/venv/lib/python3.10/site-packages/sqlalchemy/orm/persistence.py:245\u001b[0m, in \u001b[0;36msave_obj\u001b[0;34m(base_mapper, states, uowtransaction, single)\u001b[0m\n\u001b[1;32m    233\u001b[0m     update \u001b[39m=\u001b[39m _collect_update_commands(\n\u001b[1;32m    234\u001b[0m         uowtransaction, table, states_to_update\n\u001b[1;32m    235\u001b[0m     )\n\u001b[1;32m    237\u001b[0m     _emit_update_statements(\n\u001b[1;32m    238\u001b[0m         base_mapper,\n\u001b[1;32m    239\u001b[0m         uowtransaction,\n\u001b[0;32m   (...)\u001b[0m\n\u001b[1;32m    242\u001b[0m         update,\n\u001b[1;32m    243\u001b[0m     )\n\u001b[0;32m--> 245\u001b[0m     _emit_insert_statements(\n\u001b[1;32m    246\u001b[0m         base_mapper,\n\u001b[1;32m    247\u001b[0m         uowtransaction,\n\u001b[1;32m    248\u001b[0m         mapper,\n\u001b[1;32m    249\u001b[0m         table,\n\u001b[1;32m    250\u001b[0m         insert,\n\u001b[1;32m    251\u001b[0m     )\n\u001b[1;32m    253\u001b[0m _finalize_insert_update_commands(\n\u001b[1;32m    254\u001b[0m     base_mapper,\n\u001b[1;32m    255\u001b[0m     uowtransaction,\n\u001b[0;32m   (...)\u001b[0m\n\u001b[1;32m    271\u001b[0m     ),\n\u001b[1;32m    272\u001b[0m )\n",
      "File \u001b[0;32m~/_P/Python_WebApp/venv/lib/python3.10/site-packages/sqlalchemy/orm/persistence.py:1097\u001b[0m, in \u001b[0;36m_emit_insert_statements\u001b[0;34m(base_mapper, uowtransaction, mapper, table, insert, bookkeeping)\u001b[0m\n\u001b[1;32m   1094\u001b[0m records \u001b[39m=\u001b[39m \u001b[39mlist\u001b[39m(records)\n\u001b[1;32m   1095\u001b[0m multiparams \u001b[39m=\u001b[39m [rec[\u001b[39m2\u001b[39m] \u001b[39mfor\u001b[39;00m rec \u001b[39min\u001b[39;00m records]\n\u001b[0;32m-> 1097\u001b[0m c \u001b[39m=\u001b[39m connection\u001b[39m.\u001b[39;49m_execute_20(\n\u001b[1;32m   1098\u001b[0m     statement, multiparams, execution_options\u001b[39m=\u001b[39;49mexecution_options\n\u001b[1;32m   1099\u001b[0m )\n\u001b[1;32m   1101\u001b[0m \u001b[39mif\u001b[39;00m bookkeeping:\n\u001b[1;32m   1102\u001b[0m     \u001b[39mfor\u001b[39;00m (\n\u001b[1;32m   1103\u001b[0m         (\n\u001b[1;32m   1104\u001b[0m             state,\n\u001b[0;32m   (...)\u001b[0m\n\u001b[1;32m   1113\u001b[0m         last_inserted_params,\n\u001b[1;32m   1114\u001b[0m     ) \u001b[39min\u001b[39;00m \u001b[39mzip\u001b[39m(records, c\u001b[39m.\u001b[39mcontext\u001b[39m.\u001b[39mcompiled_parameters):\n",
      "File \u001b[0;32m~/_P/Python_WebApp/venv/lib/python3.10/site-packages/sqlalchemy/engine/base.py:1710\u001b[0m, in \u001b[0;36mConnection._execute_20\u001b[0;34m(self, statement, parameters, execution_options)\u001b[0m\n\u001b[1;32m   1706\u001b[0m     util\u001b[39m.\u001b[39mraise_(\n\u001b[1;32m   1707\u001b[0m         exc\u001b[39m.\u001b[39mObjectNotExecutableError(statement), replace_context\u001b[39m=\u001b[39merr\n\u001b[1;32m   1708\u001b[0m     )\n\u001b[1;32m   1709\u001b[0m \u001b[39melse\u001b[39;00m:\n\u001b[0;32m-> 1710\u001b[0m     \u001b[39mreturn\u001b[39;00m meth(\u001b[39mself\u001b[39;49m, args_10style, kwargs_10style, execution_options)\n",
      "File \u001b[0;32m~/_P/Python_WebApp/venv/lib/python3.10/site-packages/sqlalchemy/sql/elements.py:334\u001b[0m, in \u001b[0;36mClauseElement._execute_on_connection\u001b[0;34m(self, connection, multiparams, params, execution_options, _force)\u001b[0m\n\u001b[1;32m    330\u001b[0m \u001b[39mdef\u001b[39;00m \u001b[39m_execute_on_connection\u001b[39m(\n\u001b[1;32m    331\u001b[0m     \u001b[39mself\u001b[39m, connection, multiparams, params, execution_options, _force\u001b[39m=\u001b[39m\u001b[39mFalse\u001b[39;00m\n\u001b[1;32m    332\u001b[0m ):\n\u001b[1;32m    333\u001b[0m     \u001b[39mif\u001b[39;00m _force \u001b[39mor\u001b[39;00m \u001b[39mself\u001b[39m\u001b[39m.\u001b[39msupports_execution:\n\u001b[0;32m--> 334\u001b[0m         \u001b[39mreturn\u001b[39;00m connection\u001b[39m.\u001b[39;49m_execute_clauseelement(\n\u001b[1;32m    335\u001b[0m             \u001b[39mself\u001b[39;49m, multiparams, params, execution_options\n\u001b[1;32m    336\u001b[0m         )\n\u001b[1;32m    337\u001b[0m     \u001b[39melse\u001b[39;00m:\n\u001b[1;32m    338\u001b[0m         \u001b[39mraise\u001b[39;00m exc\u001b[39m.\u001b[39mObjectNotExecutableError(\u001b[39mself\u001b[39m)\n",
      "File \u001b[0;32m~/_P/Python_WebApp/venv/lib/python3.10/site-packages/sqlalchemy/engine/base.py:1577\u001b[0m, in \u001b[0;36mConnection._execute_clauseelement\u001b[0;34m(self, elem, multiparams, params, execution_options)\u001b[0m\n\u001b[1;32m   1565\u001b[0m compiled_cache \u001b[39m=\u001b[39m execution_options\u001b[39m.\u001b[39mget(\n\u001b[1;32m   1566\u001b[0m     \u001b[39m\"\u001b[39m\u001b[39mcompiled_cache\u001b[39m\u001b[39m\"\u001b[39m, \u001b[39mself\u001b[39m\u001b[39m.\u001b[39mengine\u001b[39m.\u001b[39m_compiled_cache\n\u001b[1;32m   1567\u001b[0m )\n\u001b[1;32m   1569\u001b[0m compiled_sql, extracted_params, cache_hit \u001b[39m=\u001b[39m elem\u001b[39m.\u001b[39m_compile_w_cache(\n\u001b[1;32m   1570\u001b[0m     dialect\u001b[39m=\u001b[39mdialect,\n\u001b[1;32m   1571\u001b[0m     compiled_cache\u001b[39m=\u001b[39mcompiled_cache,\n\u001b[0;32m   (...)\u001b[0m\n\u001b[1;32m   1575\u001b[0m     linting\u001b[39m=\u001b[39m\u001b[39mself\u001b[39m\u001b[39m.\u001b[39mdialect\u001b[39m.\u001b[39mcompiler_linting \u001b[39m|\u001b[39m compiler\u001b[39m.\u001b[39mWARN_LINTING,\n\u001b[1;32m   1576\u001b[0m )\n\u001b[0;32m-> 1577\u001b[0m ret \u001b[39m=\u001b[39m \u001b[39mself\u001b[39;49m\u001b[39m.\u001b[39;49m_execute_context(\n\u001b[1;32m   1578\u001b[0m     dialect,\n\u001b[1;32m   1579\u001b[0m     dialect\u001b[39m.\u001b[39;49mexecution_ctx_cls\u001b[39m.\u001b[39;49m_init_compiled,\n\u001b[1;32m   1580\u001b[0m     compiled_sql,\n\u001b[1;32m   1581\u001b[0m     distilled_params,\n\u001b[1;32m   1582\u001b[0m     execution_options,\n\u001b[1;32m   1583\u001b[0m     compiled_sql,\n\u001b[1;32m   1584\u001b[0m     distilled_params,\n\u001b[1;32m   1585\u001b[0m     elem,\n\u001b[1;32m   1586\u001b[0m     extracted_params,\n\u001b[1;32m   1587\u001b[0m     cache_hit\u001b[39m=\u001b[39;49mcache_hit,\n\u001b[1;32m   1588\u001b[0m )\n\u001b[1;32m   1589\u001b[0m \u001b[39mif\u001b[39;00m has_events:\n\u001b[1;32m   1590\u001b[0m     \u001b[39mself\u001b[39m\u001b[39m.\u001b[39mdispatch\u001b[39m.\u001b[39mafter_execute(\n\u001b[1;32m   1591\u001b[0m         \u001b[39mself\u001b[39m,\n\u001b[1;32m   1592\u001b[0m         elem,\n\u001b[0;32m   (...)\u001b[0m\n\u001b[1;32m   1596\u001b[0m         ret,\n\u001b[1;32m   1597\u001b[0m     )\n",
      "File \u001b[0;32m~/_P/Python_WebApp/venv/lib/python3.10/site-packages/sqlalchemy/engine/base.py:1953\u001b[0m, in \u001b[0;36mConnection._execute_context\u001b[0;34m(self, dialect, constructor, statement, parameters, execution_options, *args, **kw)\u001b[0m\n\u001b[1;32m   1950\u001b[0m             branched\u001b[39m.\u001b[39mclose()\n\u001b[1;32m   1952\u001b[0m \u001b[39mexcept\u001b[39;00m \u001b[39mBaseException\u001b[39;00m \u001b[39mas\u001b[39;00m e:\n\u001b[0;32m-> 1953\u001b[0m     \u001b[39mself\u001b[39;49m\u001b[39m.\u001b[39;49m_handle_dbapi_exception(\n\u001b[1;32m   1954\u001b[0m         e, statement, parameters, cursor, context\n\u001b[1;32m   1955\u001b[0m     )\n\u001b[1;32m   1957\u001b[0m \u001b[39mreturn\u001b[39;00m result\n",
      "File \u001b[0;32m~/_P/Python_WebApp/venv/lib/python3.10/site-packages/sqlalchemy/engine/base.py:2134\u001b[0m, in \u001b[0;36mConnection._handle_dbapi_exception\u001b[0;34m(self, e, statement, parameters, cursor, context)\u001b[0m\n\u001b[1;32m   2132\u001b[0m     util\u001b[39m.\u001b[39mraise_(newraise, with_traceback\u001b[39m=\u001b[39mexc_info[\u001b[39m2\u001b[39m], from_\u001b[39m=\u001b[39me)\n\u001b[1;32m   2133\u001b[0m \u001b[39melif\u001b[39;00m should_wrap:\n\u001b[0;32m-> 2134\u001b[0m     util\u001b[39m.\u001b[39;49mraise_(\n\u001b[1;32m   2135\u001b[0m         sqlalchemy_exception, with_traceback\u001b[39m=\u001b[39;49mexc_info[\u001b[39m2\u001b[39;49m], from_\u001b[39m=\u001b[39;49me\n\u001b[1;32m   2136\u001b[0m     )\n\u001b[1;32m   2137\u001b[0m \u001b[39melse\u001b[39;00m:\n\u001b[1;32m   2138\u001b[0m     util\u001b[39m.\u001b[39mraise_(exc_info[\u001b[39m1\u001b[39m], with_traceback\u001b[39m=\u001b[39mexc_info[\u001b[39m2\u001b[39m])\n",
      "File \u001b[0;32m~/_P/Python_WebApp/venv/lib/python3.10/site-packages/sqlalchemy/util/compat.py:211\u001b[0m, in \u001b[0;36mraise_\u001b[0;34m(***failed resolving arguments***)\u001b[0m\n\u001b[1;32m    208\u001b[0m     exception\u001b[39m.\u001b[39m__cause__ \u001b[39m=\u001b[39m replace_context\n\u001b[1;32m    210\u001b[0m \u001b[39mtry\u001b[39;00m:\n\u001b[0;32m--> 211\u001b[0m     \u001b[39mraise\u001b[39;00m exception\n\u001b[1;32m    212\u001b[0m \u001b[39mfinally\u001b[39;00m:\n\u001b[1;32m    213\u001b[0m     \u001b[39m# credit to\u001b[39;00m\n\u001b[1;32m    214\u001b[0m     \u001b[39m# https://cosmicpercolator.com/2016/01/13/exception-leaks-in-python-2-and-3/\u001b[39;00m\n\u001b[1;32m    215\u001b[0m     \u001b[39m# as the __traceback__ object creates a cycle\u001b[39;00m\n\u001b[1;32m    216\u001b[0m     \u001b[39mdel\u001b[39;00m exception, replace_context, from_, with_traceback\n",
      "File \u001b[0;32m~/_P/Python_WebApp/venv/lib/python3.10/site-packages/sqlalchemy/engine/base.py:1910\u001b[0m, in \u001b[0;36mConnection._execute_context\u001b[0;34m(self, dialect, constructor, statement, parameters, execution_options, *args, **kw)\u001b[0m\n\u001b[1;32m   1908\u001b[0m                 \u001b[39mbreak\u001b[39;00m\n\u001b[1;32m   1909\u001b[0m     \u001b[39mif\u001b[39;00m \u001b[39mnot\u001b[39;00m evt_handled:\n\u001b[0;32m-> 1910\u001b[0m         \u001b[39mself\u001b[39;49m\u001b[39m.\u001b[39;49mdialect\u001b[39m.\u001b[39;49mdo_execute(\n\u001b[1;32m   1911\u001b[0m             cursor, statement, parameters, context\n\u001b[1;32m   1912\u001b[0m         )\n\u001b[1;32m   1914\u001b[0m \u001b[39mif\u001b[39;00m \u001b[39mself\u001b[39m\u001b[39m.\u001b[39m_has_events \u001b[39mor\u001b[39;00m \u001b[39mself\u001b[39m\u001b[39m.\u001b[39mengine\u001b[39m.\u001b[39m_has_events:\n\u001b[1;32m   1915\u001b[0m     \u001b[39mself\u001b[39m\u001b[39m.\u001b[39mdispatch\u001b[39m.\u001b[39mafter_cursor_execute(\n\u001b[1;32m   1916\u001b[0m         \u001b[39mself\u001b[39m,\n\u001b[1;32m   1917\u001b[0m         cursor,\n\u001b[0;32m   (...)\u001b[0m\n\u001b[1;32m   1921\u001b[0m         context\u001b[39m.\u001b[39mexecutemany,\n\u001b[1;32m   1922\u001b[0m     )\n",
      "File \u001b[0;32m~/_P/Python_WebApp/venv/lib/python3.10/site-packages/sqlalchemy/engine/default.py:736\u001b[0m, in \u001b[0;36mDefaultDialect.do_execute\u001b[0;34m(self, cursor, statement, parameters, context)\u001b[0m\n\u001b[1;32m    735\u001b[0m \u001b[39mdef\u001b[39;00m \u001b[39mdo_execute\u001b[39m(\u001b[39mself\u001b[39m, cursor, statement, parameters, context\u001b[39m=\u001b[39m\u001b[39mNone\u001b[39;00m):\n\u001b[0;32m--> 736\u001b[0m     cursor\u001b[39m.\u001b[39;49mexecute(statement, parameters)\n",
      "\u001b[0;31mIntegrityError\u001b[0m: (sqlite3.IntegrityError) UNIQUE constraint failed: human.id\n[SQL: INSERT INTO human (id, name, height, weight) VALUES (?, ?, ?, ?)]\n[parameters: (4, 'from_model', 100.0, 70.0)]\n(Background on this error at: https://sqlalche.me/e/14/gkpj)"
     ]
    }
   ],
   "source": [
    "session.commit()\n"
   ]
  },
  {
   "cell_type": "code",
   "execution_count": null,
   "metadata": {},
   "outputs": [
    {
     "ename": "PendingRollbackError",
     "evalue": "This Session's transaction has been rolled back due to a previous exception during flush. To begin a new transaction with this Session, first issue Session.rollback(). Original exception was: (sqlite3.IntegrityError) UNIQUE constraint failed: human.id\n[SQL: INSERT INTO human (id, name, height, weight) VALUES (?, ?, ?, ?)]\n[parameters: (4, 'from_model', 100.0, 70.0)]\n(Background on this error at: https://sqlalche.me/e/14/gkpj) (Background on this error at: https://sqlalche.me/e/14/7s2a)",
     "output_type": "error",
     "traceback": [
      "\u001b[0;31m---------------------------------------------------------------------------\u001b[0m",
      "\u001b[0;31mPendingRollbackError\u001b[0m                      Traceback (most recent call last)",
      "\u001b[1;32m/home/cre/_P/Python_WebApp/try_sqlalchemy.ipynb セル 10\u001b[0m line \u001b[0;36m1\n\u001b[0;32m----> <a href='vscode-notebook-cell://wsl%2Bubuntu-22.04/home/cre/_P/Python_WebApp/try_sqlalchemy.ipynb#X11sdnNjb2RlLXJlbW90ZQ%3D%3D?line=0'>1</a>\u001b[0m persons \u001b[39m=\u001b[39m session\u001b[39m.\u001b[39;49mquery(Human)\u001b[39m.\u001b[39;49mall()\n",
      "File \u001b[0;32m~/_P/Python_WebApp/venv/lib/python3.10/site-packages/sqlalchemy/orm/query.py:2773\u001b[0m, in \u001b[0;36mQuery.all\u001b[0;34m(self)\u001b[0m\n\u001b[1;32m   2757\u001b[0m \u001b[39mdef\u001b[39;00m \u001b[39mall\u001b[39m(\u001b[39mself\u001b[39m):\n\u001b[1;32m   2758\u001b[0m \u001b[39m    \u001b[39m\u001b[39m\"\"\"Return the results represented by this :class:`_query.Query`\u001b[39;00m\n\u001b[1;32m   2759\u001b[0m \u001b[39m    as a list.\u001b[39;00m\n\u001b[1;32m   2760\u001b[0m \n\u001b[0;32m   (...)\u001b[0m\n\u001b[1;32m   2771\u001b[0m \u001b[39m            :ref:`faq_query_deduplicating`\u001b[39;00m\n\u001b[1;32m   2772\u001b[0m \u001b[39m    \"\"\"\u001b[39;00m\n\u001b[0;32m-> 2773\u001b[0m     \u001b[39mreturn\u001b[39;00m \u001b[39mself\u001b[39;49m\u001b[39m.\u001b[39;49m_iter()\u001b[39m.\u001b[39mall()\n",
      "File \u001b[0;32m~/_P/Python_WebApp/venv/lib/python3.10/site-packages/sqlalchemy/orm/query.py:2916\u001b[0m, in \u001b[0;36mQuery._iter\u001b[0;34m(self)\u001b[0m\n\u001b[1;32m   2913\u001b[0m params \u001b[39m=\u001b[39m \u001b[39mself\u001b[39m\u001b[39m.\u001b[39m_params\n\u001b[1;32m   2915\u001b[0m statement \u001b[39m=\u001b[39m \u001b[39mself\u001b[39m\u001b[39m.\u001b[39m_statement_20()\n\u001b[0;32m-> 2916\u001b[0m result \u001b[39m=\u001b[39m \u001b[39mself\u001b[39;49m\u001b[39m.\u001b[39;49msession\u001b[39m.\u001b[39;49mexecute(\n\u001b[1;32m   2917\u001b[0m     statement,\n\u001b[1;32m   2918\u001b[0m     params,\n\u001b[1;32m   2919\u001b[0m     execution_options\u001b[39m=\u001b[39;49m{\u001b[39m\"\u001b[39;49m\u001b[39m_sa_orm_load_options\u001b[39;49m\u001b[39m\"\u001b[39;49m: \u001b[39mself\u001b[39;49m\u001b[39m.\u001b[39;49mload_options},\n\u001b[1;32m   2920\u001b[0m )\n\u001b[1;32m   2922\u001b[0m \u001b[39m# legacy: automatically set scalars, unique\u001b[39;00m\n\u001b[1;32m   2923\u001b[0m \u001b[39mif\u001b[39;00m result\u001b[39m.\u001b[39m_attributes\u001b[39m.\u001b[39mget(\u001b[39m\"\u001b[39m\u001b[39mis_single_entity\u001b[39m\u001b[39m\"\u001b[39m, \u001b[39mFalse\u001b[39;00m):\n",
      "File \u001b[0;32m~/_P/Python_WebApp/venv/lib/python3.10/site-packages/sqlalchemy/orm/session.py:1716\u001b[0m, in \u001b[0;36mSession.execute\u001b[0;34m(self, statement, params, execution_options, bind_arguments, _parent_execute_state, _add_event, **kw)\u001b[0m\n\u001b[1;32m   1712\u001b[0m     execution_options \u001b[39m=\u001b[39m execution_options\u001b[39m.\u001b[39munion(\n\u001b[1;32m   1713\u001b[0m         \u001b[39mdict\u001b[39m(future_result\u001b[39m=\u001b[39m\u001b[39mFalse\u001b[39;00m)\n\u001b[1;32m   1714\u001b[0m     )\n\u001b[1;32m   1715\u001b[0m \u001b[39melse\u001b[39;00m:\n\u001b[0;32m-> 1716\u001b[0m     conn \u001b[39m=\u001b[39m \u001b[39mself\u001b[39;49m\u001b[39m.\u001b[39;49m_connection_for_bind(bind)\n\u001b[1;32m   1717\u001b[0m result \u001b[39m=\u001b[39m conn\u001b[39m.\u001b[39m_execute_20(statement, params \u001b[39mor\u001b[39;00m {}, execution_options)\n\u001b[1;32m   1719\u001b[0m \u001b[39mif\u001b[39;00m compile_state_cls:\n",
      "File \u001b[0;32m~/_P/Python_WebApp/venv/lib/python3.10/site-packages/sqlalchemy/orm/session.py:1555\u001b[0m, in \u001b[0;36mSession._connection_for_bind\u001b[0;34m(self, engine, execution_options, **kw)\u001b[0m\n\u001b[1;32m   1552\u001b[0m TransactionalContext\u001b[39m.\u001b[39m_trans_ctx_check(\u001b[39mself\u001b[39m)\n\u001b[1;32m   1554\u001b[0m \u001b[39mif\u001b[39;00m \u001b[39mself\u001b[39m\u001b[39m.\u001b[39m_transaction \u001b[39mis\u001b[39;00m \u001b[39mnot\u001b[39;00m \u001b[39mNone\u001b[39;00m \u001b[39mor\u001b[39;00m \u001b[39mself\u001b[39m\u001b[39m.\u001b[39m_autobegin():\n\u001b[0;32m-> 1555\u001b[0m     \u001b[39mreturn\u001b[39;00m \u001b[39mself\u001b[39;49m\u001b[39m.\u001b[39;49m_transaction\u001b[39m.\u001b[39;49m_connection_for_bind(\n\u001b[1;32m   1556\u001b[0m         engine, execution_options\n\u001b[1;32m   1557\u001b[0m     )\n\u001b[1;32m   1559\u001b[0m \u001b[39massert\u001b[39;00m \u001b[39mself\u001b[39m\u001b[39m.\u001b[39m_transaction \u001b[39mis\u001b[39;00m \u001b[39mNone\u001b[39;00m\n\u001b[1;32m   1560\u001b[0m \u001b[39massert\u001b[39;00m \u001b[39mself\u001b[39m\u001b[39m.\u001b[39mautocommit\n",
      "File \u001b[0;32m~/_P/Python_WebApp/venv/lib/python3.10/site-packages/sqlalchemy/orm/session.py:724\u001b[0m, in \u001b[0;36mSessionTransaction._connection_for_bind\u001b[0;34m(self, bind, execution_options)\u001b[0m\n\u001b[1;32m    723\u001b[0m \u001b[39mdef\u001b[39;00m \u001b[39m_connection_for_bind\u001b[39m(\u001b[39mself\u001b[39m, bind, execution_options):\n\u001b[0;32m--> 724\u001b[0m     \u001b[39mself\u001b[39;49m\u001b[39m.\u001b[39;49m_assert_active()\n\u001b[1;32m    726\u001b[0m     \u001b[39mif\u001b[39;00m bind \u001b[39min\u001b[39;00m \u001b[39mself\u001b[39m\u001b[39m.\u001b[39m_connections:\n\u001b[1;32m    727\u001b[0m         \u001b[39mif\u001b[39;00m execution_options:\n",
      "File \u001b[0;32m~/_P/Python_WebApp/venv/lib/python3.10/site-packages/sqlalchemy/orm/session.py:604\u001b[0m, in \u001b[0;36mSessionTransaction._assert_active\u001b[0;34m(self, prepared_ok, rollback_ok, deactive_ok, closed_msg)\u001b[0m\n\u001b[1;32m    602\u001b[0m \u001b[39mif\u001b[39;00m \u001b[39mnot\u001b[39;00m deactive_ok \u001b[39mand\u001b[39;00m \u001b[39mnot\u001b[39;00m rollback_ok:\n\u001b[1;32m    603\u001b[0m     \u001b[39mif\u001b[39;00m \u001b[39mself\u001b[39m\u001b[39m.\u001b[39m_rollback_exception:\n\u001b[0;32m--> 604\u001b[0m         \u001b[39mraise\u001b[39;00m sa_exc\u001b[39m.\u001b[39mPendingRollbackError(\n\u001b[1;32m    605\u001b[0m             \u001b[39m\"\u001b[39m\u001b[39mThis Session\u001b[39m\u001b[39m'\u001b[39m\u001b[39ms transaction has been rolled back \u001b[39m\u001b[39m\"\u001b[39m\n\u001b[1;32m    606\u001b[0m             \u001b[39m\"\u001b[39m\u001b[39mdue to a previous exception during flush.\u001b[39m\u001b[39m\"\u001b[39m\n\u001b[1;32m    607\u001b[0m             \u001b[39m\"\u001b[39m\u001b[39m To begin a new transaction with this Session, \u001b[39m\u001b[39m\"\u001b[39m\n\u001b[1;32m    608\u001b[0m             \u001b[39m\"\u001b[39m\u001b[39mfirst issue Session.rollback().\u001b[39m\u001b[39m\"\u001b[39m\n\u001b[1;32m    609\u001b[0m             \u001b[39m\"\u001b[39m\u001b[39m Original exception was: \u001b[39m\u001b[39m%s\u001b[39;00m\u001b[39m\"\u001b[39m\n\u001b[1;32m    610\u001b[0m             \u001b[39m%\u001b[39m \u001b[39mself\u001b[39m\u001b[39m.\u001b[39m_rollback_exception,\n\u001b[1;32m    611\u001b[0m             code\u001b[39m=\u001b[39m\u001b[39m\"\u001b[39m\u001b[39m7s2a\u001b[39m\u001b[39m\"\u001b[39m,\n\u001b[1;32m    612\u001b[0m         )\n\u001b[1;32m    613\u001b[0m     \u001b[39melif\u001b[39;00m \u001b[39mnot\u001b[39;00m deactive_ok:\n\u001b[1;32m    614\u001b[0m         \u001b[39mraise\u001b[39;00m sa_exc\u001b[39m.\u001b[39mInvalidRequestError(\n\u001b[1;32m    615\u001b[0m             \u001b[39m\"\u001b[39m\u001b[39mThis session is in \u001b[39m\u001b[39m'\u001b[39m\u001b[39minactive\u001b[39m\u001b[39m'\u001b[39m\u001b[39m state, due to the \u001b[39m\u001b[39m\"\u001b[39m\n\u001b[1;32m    616\u001b[0m             \u001b[39m\"\u001b[39m\u001b[39mSQL transaction being rolled back; no further \u001b[39m\u001b[39m\"\u001b[39m\n\u001b[1;32m    617\u001b[0m             \u001b[39m\"\u001b[39m\u001b[39mSQL can be emitted within this transaction.\u001b[39m\u001b[39m\"\u001b[39m\n\u001b[1;32m    618\u001b[0m         )\n",
      "\u001b[0;31mPendingRollbackError\u001b[0m: This Session's transaction has been rolled back due to a previous exception during flush. To begin a new transaction with this Session, first issue Session.rollback(). Original exception was: (sqlite3.IntegrityError) UNIQUE constraint failed: human.id\n[SQL: INSERT INTO human (id, name, height, weight) VALUES (?, ?, ?, ?)]\n[parameters: (4, 'from_model', 100.0, 70.0)]\n(Background on this error at: https://sqlalche.me/e/14/gkpj) (Background on this error at: https://sqlalche.me/e/14/7s2a)"
     ]
    }
   ],
   "source": [
    "persons = session.query(Human).all()"
   ]
  },
  {
   "cell_type": "code",
   "execution_count": null,
   "metadata": {},
   "outputs": [
    {
     "name": "stdout",
     "output_type": "stream",
     "text": [
      "{'_sa_instance_state': <sqlalchemy.orm.state.InstanceState object at 0x7fd6d2d98580>}\n",
      "{'_sa_instance_state': <sqlalchemy.orm.state.InstanceState object at 0x7fd6d2d9b3a0>}\n"
     ]
    }
   ],
   "source": [
    "for person in persons:\n",
    "    print(person.__dict__)"
   ]
  },
  {
   "cell_type": "code",
   "execution_count": null,
   "metadata": {},
   "outputs": [
    {
     "ename": "PendingRollbackError",
     "evalue": "This Session's transaction has been rolled back due to a previous exception during flush. To begin a new transaction with this Session, first issue Session.rollback(). Original exception was: (sqlite3.IntegrityError) UNIQUE constraint failed: human.id\n[SQL: INSERT INTO human (id, name, height, weight) VALUES (?, ?, ?, ?)]\n[parameters: (4, 'from_model', 100.0, 70.0)]\n(Background on this error at: https://sqlalche.me/e/14/gkpj) (Background on this error at: https://sqlalche.me/e/14/7s2a)",
     "output_type": "error",
     "traceback": [
      "\u001b[0;31m---------------------------------------------------------------------------\u001b[0m",
      "\u001b[0;31mPendingRollbackError\u001b[0m                      Traceback (most recent call last)",
      "\u001b[1;32m/home/cre/_P/Python_WebApp/try_sqlalchemy.ipynb セル 12\u001b[0m line \u001b[0;36m1\n\u001b[0;32m----> <a href='vscode-notebook-cell://wsl%2Bubuntu-22.04/home/cre/_P/Python_WebApp/try_sqlalchemy.ipynb#X13sdnNjb2RlLXJlbW90ZQ%3D%3D?line=0'>1</a>\u001b[0m person4 \u001b[39m=\u001b[39m session\u001b[39m.\u001b[39;49mquery(Human)\u001b[39m.\u001b[39;49mfilter(Human\u001b[39m.\u001b[39;49mid\u001b[39m==\u001b[39;49m\u001b[39m4\u001b[39;49m)\u001b[39m.\u001b[39;49mfirst()\n",
      "File \u001b[0;32m~/_P/Python_WebApp/venv/lib/python3.10/site-packages/sqlalchemy/orm/query.py:2824\u001b[0m, in \u001b[0;36mQuery.first\u001b[0;34m(self)\u001b[0m\n\u001b[1;32m   2822\u001b[0m     \u001b[39mreturn\u001b[39;00m \u001b[39mself\u001b[39m\u001b[39m.\u001b[39m_iter()\u001b[39m.\u001b[39mfirst()\n\u001b[1;32m   2823\u001b[0m \u001b[39melse\u001b[39;00m:\n\u001b[0;32m-> 2824\u001b[0m     \u001b[39mreturn\u001b[39;00m \u001b[39mself\u001b[39;49m\u001b[39m.\u001b[39;49mlimit(\u001b[39m1\u001b[39;49m)\u001b[39m.\u001b[39;49m_iter()\u001b[39m.\u001b[39mfirst()\n",
      "File \u001b[0;32m~/_P/Python_WebApp/venv/lib/python3.10/site-packages/sqlalchemy/orm/query.py:2916\u001b[0m, in \u001b[0;36mQuery._iter\u001b[0;34m(self)\u001b[0m\n\u001b[1;32m   2913\u001b[0m params \u001b[39m=\u001b[39m \u001b[39mself\u001b[39m\u001b[39m.\u001b[39m_params\n\u001b[1;32m   2915\u001b[0m statement \u001b[39m=\u001b[39m \u001b[39mself\u001b[39m\u001b[39m.\u001b[39m_statement_20()\n\u001b[0;32m-> 2916\u001b[0m result \u001b[39m=\u001b[39m \u001b[39mself\u001b[39;49m\u001b[39m.\u001b[39;49msession\u001b[39m.\u001b[39;49mexecute(\n\u001b[1;32m   2917\u001b[0m     statement,\n\u001b[1;32m   2918\u001b[0m     params,\n\u001b[1;32m   2919\u001b[0m     execution_options\u001b[39m=\u001b[39;49m{\u001b[39m\"\u001b[39;49m\u001b[39m_sa_orm_load_options\u001b[39;49m\u001b[39m\"\u001b[39;49m: \u001b[39mself\u001b[39;49m\u001b[39m.\u001b[39;49mload_options},\n\u001b[1;32m   2920\u001b[0m )\n\u001b[1;32m   2922\u001b[0m \u001b[39m# legacy: automatically set scalars, unique\u001b[39;00m\n\u001b[1;32m   2923\u001b[0m \u001b[39mif\u001b[39;00m result\u001b[39m.\u001b[39m_attributes\u001b[39m.\u001b[39mget(\u001b[39m\"\u001b[39m\u001b[39mis_single_entity\u001b[39m\u001b[39m\"\u001b[39m, \u001b[39mFalse\u001b[39;00m):\n",
      "File \u001b[0;32m~/_P/Python_WebApp/venv/lib/python3.10/site-packages/sqlalchemy/orm/session.py:1716\u001b[0m, in \u001b[0;36mSession.execute\u001b[0;34m(self, statement, params, execution_options, bind_arguments, _parent_execute_state, _add_event, **kw)\u001b[0m\n\u001b[1;32m   1712\u001b[0m     execution_options \u001b[39m=\u001b[39m execution_options\u001b[39m.\u001b[39munion(\n\u001b[1;32m   1713\u001b[0m         \u001b[39mdict\u001b[39m(future_result\u001b[39m=\u001b[39m\u001b[39mFalse\u001b[39;00m)\n\u001b[1;32m   1714\u001b[0m     )\n\u001b[1;32m   1715\u001b[0m \u001b[39melse\u001b[39;00m:\n\u001b[0;32m-> 1716\u001b[0m     conn \u001b[39m=\u001b[39m \u001b[39mself\u001b[39;49m\u001b[39m.\u001b[39;49m_connection_for_bind(bind)\n\u001b[1;32m   1717\u001b[0m result \u001b[39m=\u001b[39m conn\u001b[39m.\u001b[39m_execute_20(statement, params \u001b[39mor\u001b[39;00m {}, execution_options)\n\u001b[1;32m   1719\u001b[0m \u001b[39mif\u001b[39;00m compile_state_cls:\n",
      "File \u001b[0;32m~/_P/Python_WebApp/venv/lib/python3.10/site-packages/sqlalchemy/orm/session.py:1555\u001b[0m, in \u001b[0;36mSession._connection_for_bind\u001b[0;34m(self, engine, execution_options, **kw)\u001b[0m\n\u001b[1;32m   1552\u001b[0m TransactionalContext\u001b[39m.\u001b[39m_trans_ctx_check(\u001b[39mself\u001b[39m)\n\u001b[1;32m   1554\u001b[0m \u001b[39mif\u001b[39;00m \u001b[39mself\u001b[39m\u001b[39m.\u001b[39m_transaction \u001b[39mis\u001b[39;00m \u001b[39mnot\u001b[39;00m \u001b[39mNone\u001b[39;00m \u001b[39mor\u001b[39;00m \u001b[39mself\u001b[39m\u001b[39m.\u001b[39m_autobegin():\n\u001b[0;32m-> 1555\u001b[0m     \u001b[39mreturn\u001b[39;00m \u001b[39mself\u001b[39;49m\u001b[39m.\u001b[39;49m_transaction\u001b[39m.\u001b[39;49m_connection_for_bind(\n\u001b[1;32m   1556\u001b[0m         engine, execution_options\n\u001b[1;32m   1557\u001b[0m     )\n\u001b[1;32m   1559\u001b[0m \u001b[39massert\u001b[39;00m \u001b[39mself\u001b[39m\u001b[39m.\u001b[39m_transaction \u001b[39mis\u001b[39;00m \u001b[39mNone\u001b[39;00m\n\u001b[1;32m   1560\u001b[0m \u001b[39massert\u001b[39;00m \u001b[39mself\u001b[39m\u001b[39m.\u001b[39mautocommit\n",
      "File \u001b[0;32m~/_P/Python_WebApp/venv/lib/python3.10/site-packages/sqlalchemy/orm/session.py:724\u001b[0m, in \u001b[0;36mSessionTransaction._connection_for_bind\u001b[0;34m(self, bind, execution_options)\u001b[0m\n\u001b[1;32m    723\u001b[0m \u001b[39mdef\u001b[39;00m \u001b[39m_connection_for_bind\u001b[39m(\u001b[39mself\u001b[39m, bind, execution_options):\n\u001b[0;32m--> 724\u001b[0m     \u001b[39mself\u001b[39;49m\u001b[39m.\u001b[39;49m_assert_active()\n\u001b[1;32m    726\u001b[0m     \u001b[39mif\u001b[39;00m bind \u001b[39min\u001b[39;00m \u001b[39mself\u001b[39m\u001b[39m.\u001b[39m_connections:\n\u001b[1;32m    727\u001b[0m         \u001b[39mif\u001b[39;00m execution_options:\n",
      "File \u001b[0;32m~/_P/Python_WebApp/venv/lib/python3.10/site-packages/sqlalchemy/orm/session.py:604\u001b[0m, in \u001b[0;36mSessionTransaction._assert_active\u001b[0;34m(self, prepared_ok, rollback_ok, deactive_ok, closed_msg)\u001b[0m\n\u001b[1;32m    602\u001b[0m \u001b[39mif\u001b[39;00m \u001b[39mnot\u001b[39;00m deactive_ok \u001b[39mand\u001b[39;00m \u001b[39mnot\u001b[39;00m rollback_ok:\n\u001b[1;32m    603\u001b[0m     \u001b[39mif\u001b[39;00m \u001b[39mself\u001b[39m\u001b[39m.\u001b[39m_rollback_exception:\n\u001b[0;32m--> 604\u001b[0m         \u001b[39mraise\u001b[39;00m sa_exc\u001b[39m.\u001b[39mPendingRollbackError(\n\u001b[1;32m    605\u001b[0m             \u001b[39m\"\u001b[39m\u001b[39mThis Session\u001b[39m\u001b[39m'\u001b[39m\u001b[39ms transaction has been rolled back \u001b[39m\u001b[39m\"\u001b[39m\n\u001b[1;32m    606\u001b[0m             \u001b[39m\"\u001b[39m\u001b[39mdue to a previous exception during flush.\u001b[39m\u001b[39m\"\u001b[39m\n\u001b[1;32m    607\u001b[0m             \u001b[39m\"\u001b[39m\u001b[39m To begin a new transaction with this Session, \u001b[39m\u001b[39m\"\u001b[39m\n\u001b[1;32m    608\u001b[0m             \u001b[39m\"\u001b[39m\u001b[39mfirst issue Session.rollback().\u001b[39m\u001b[39m\"\u001b[39m\n\u001b[1;32m    609\u001b[0m             \u001b[39m\"\u001b[39m\u001b[39m Original exception was: \u001b[39m\u001b[39m%s\u001b[39;00m\u001b[39m\"\u001b[39m\n\u001b[1;32m    610\u001b[0m             \u001b[39m%\u001b[39m \u001b[39mself\u001b[39m\u001b[39m.\u001b[39m_rollback_exception,\n\u001b[1;32m    611\u001b[0m             code\u001b[39m=\u001b[39m\u001b[39m\"\u001b[39m\u001b[39m7s2a\u001b[39m\u001b[39m\"\u001b[39m,\n\u001b[1;32m    612\u001b[0m         )\n\u001b[1;32m    613\u001b[0m     \u001b[39melif\u001b[39;00m \u001b[39mnot\u001b[39;00m deactive_ok:\n\u001b[1;32m    614\u001b[0m         \u001b[39mraise\u001b[39;00m sa_exc\u001b[39m.\u001b[39mInvalidRequestError(\n\u001b[1;32m    615\u001b[0m             \u001b[39m\"\u001b[39m\u001b[39mThis session is in \u001b[39m\u001b[39m'\u001b[39m\u001b[39minactive\u001b[39m\u001b[39m'\u001b[39m\u001b[39m state, due to the \u001b[39m\u001b[39m\"\u001b[39m\n\u001b[1;32m    616\u001b[0m             \u001b[39m\"\u001b[39m\u001b[39mSQL transaction being rolled back; no further \u001b[39m\u001b[39m\"\u001b[39m\n\u001b[1;32m    617\u001b[0m             \u001b[39m\"\u001b[39m\u001b[39mSQL can be emitted within this transaction.\u001b[39m\u001b[39m\"\u001b[39m\n\u001b[1;32m    618\u001b[0m         )\n",
      "\u001b[0;31mPendingRollbackError\u001b[0m: This Session's transaction has been rolled back due to a previous exception during flush. To begin a new transaction with this Session, first issue Session.rollback(). Original exception was: (sqlite3.IntegrityError) UNIQUE constraint failed: human.id\n[SQL: INSERT INTO human (id, name, height, weight) VALUES (?, ?, ?, ?)]\n[parameters: (4, 'from_model', 100.0, 70.0)]\n(Background on this error at: https://sqlalche.me/e/14/gkpj) (Background on this error at: https://sqlalche.me/e/14/7s2a)"
     ]
    }
   ],
   "source": [
    "person4 = session.query(Human).filter(Human.id==4).first()"
   ]
  },
  {
   "cell_type": "code",
   "execution_count": null,
   "metadata": {},
   "outputs": [
    {
     "ename": "NameError",
     "evalue": "name 'person4' is not defined",
     "output_type": "error",
     "traceback": [
      "\u001b[0;31m---------------------------------------------------------------------------\u001b[0m",
      "\u001b[0;31mNameError\u001b[0m                                 Traceback (most recent call last)",
      "\u001b[1;32m/home/cre/_P/Python_WebApp/try_sqlalchemy.ipynb セル 13\u001b[0m line \u001b[0;36m1\n\u001b[0;32m----> <a href='vscode-notebook-cell://wsl%2Bubuntu-22.04/home/cre/_P/Python_WebApp/try_sqlalchemy.ipynb#X14sdnNjb2RlLXJlbW90ZQ%3D%3D?line=0'>1</a>\u001b[0m person4\u001b[39m.\u001b[39mweight\u001b[39m=\u001b[39m \u001b[39m99.9\u001b[39m\n",
      "\u001b[0;31mNameError\u001b[0m: name 'person4' is not defined"
     ]
    }
   ],
   "source": [
    "person4.weight= 99.9"
   ]
  },
  {
   "cell_type": "code",
   "execution_count": null,
   "metadata": {},
   "outputs": [
    {
     "ename": "PendingRollbackError",
     "evalue": "This Session's transaction has been rolled back due to a previous exception during flush. To begin a new transaction with this Session, first issue Session.rollback(). Original exception was: (sqlite3.IntegrityError) UNIQUE constraint failed: human.id\n[SQL: INSERT INTO human (id, name, height, weight) VALUES (?, ?, ?, ?)]\n[parameters: (4, 'from_model', 100.0, 70.0)]\n(Background on this error at: https://sqlalche.me/e/14/gkpj) (Background on this error at: https://sqlalche.me/e/14/7s2a)",
     "output_type": "error",
     "traceback": [
      "\u001b[0;31m---------------------------------------------------------------------------\u001b[0m",
      "\u001b[0;31mPendingRollbackError\u001b[0m                      Traceback (most recent call last)",
      "\u001b[1;32m/home/cre/_P/Python_WebApp/try_sqlalchemy.ipynb セル 14\u001b[0m line \u001b[0;36m1\n\u001b[0;32m----> <a href='vscode-notebook-cell://wsl%2Bubuntu-22.04/home/cre/_P/Python_WebApp/try_sqlalchemy.ipynb#X15sdnNjb2RlLXJlbW90ZQ%3D%3D?line=0'>1</a>\u001b[0m session\u001b[39m.\u001b[39;49mcommit()\n",
      "File \u001b[0;32m~/_P/Python_WebApp/venv/lib/python3.10/site-packages/sqlalchemy/orm/session.py:1454\u001b[0m, in \u001b[0;36mSession.commit\u001b[0;34m(self)\u001b[0m\n\u001b[1;32m   1451\u001b[0m     \u001b[39mif\u001b[39;00m \u001b[39mnot\u001b[39;00m \u001b[39mself\u001b[39m\u001b[39m.\u001b[39m_autobegin():\n\u001b[1;32m   1452\u001b[0m         \u001b[39mraise\u001b[39;00m sa_exc\u001b[39m.\u001b[39mInvalidRequestError(\u001b[39m\"\u001b[39m\u001b[39mNo transaction is begun.\u001b[39m\u001b[39m\"\u001b[39m)\n\u001b[0;32m-> 1454\u001b[0m \u001b[39mself\u001b[39;49m\u001b[39m.\u001b[39;49m_transaction\u001b[39m.\u001b[39;49mcommit(_to_root\u001b[39m=\u001b[39;49m\u001b[39mself\u001b[39;49m\u001b[39m.\u001b[39;49mfuture)\n",
      "File \u001b[0;32m~/_P/Python_WebApp/venv/lib/python3.10/site-packages/sqlalchemy/orm/session.py:830\u001b[0m, in \u001b[0;36mSessionTransaction.commit\u001b[0;34m(self, _to_root)\u001b[0m\n\u001b[1;32m    829\u001b[0m \u001b[39mdef\u001b[39;00m \u001b[39mcommit\u001b[39m(\u001b[39mself\u001b[39m, _to_root\u001b[39m=\u001b[39m\u001b[39mFalse\u001b[39;00m):\n\u001b[0;32m--> 830\u001b[0m     \u001b[39mself\u001b[39;49m\u001b[39m.\u001b[39;49m_assert_active(prepared_ok\u001b[39m=\u001b[39;49m\u001b[39mTrue\u001b[39;49;00m)\n\u001b[1;32m    831\u001b[0m     \u001b[39mif\u001b[39;00m \u001b[39mself\u001b[39m\u001b[39m.\u001b[39m_state \u001b[39mis\u001b[39;00m \u001b[39mnot\u001b[39;00m PREPARED:\n\u001b[1;32m    832\u001b[0m         \u001b[39mself\u001b[39m\u001b[39m.\u001b[39m_prepare_impl()\n",
      "File \u001b[0;32m~/_P/Python_WebApp/venv/lib/python3.10/site-packages/sqlalchemy/orm/session.py:604\u001b[0m, in \u001b[0;36mSessionTransaction._assert_active\u001b[0;34m(self, prepared_ok, rollback_ok, deactive_ok, closed_msg)\u001b[0m\n\u001b[1;32m    602\u001b[0m \u001b[39mif\u001b[39;00m \u001b[39mnot\u001b[39;00m deactive_ok \u001b[39mand\u001b[39;00m \u001b[39mnot\u001b[39;00m rollback_ok:\n\u001b[1;32m    603\u001b[0m     \u001b[39mif\u001b[39;00m \u001b[39mself\u001b[39m\u001b[39m.\u001b[39m_rollback_exception:\n\u001b[0;32m--> 604\u001b[0m         \u001b[39mraise\u001b[39;00m sa_exc\u001b[39m.\u001b[39mPendingRollbackError(\n\u001b[1;32m    605\u001b[0m             \u001b[39m\"\u001b[39m\u001b[39mThis Session\u001b[39m\u001b[39m'\u001b[39m\u001b[39ms transaction has been rolled back \u001b[39m\u001b[39m\"\u001b[39m\n\u001b[1;32m    606\u001b[0m             \u001b[39m\"\u001b[39m\u001b[39mdue to a previous exception during flush.\u001b[39m\u001b[39m\"\u001b[39m\n\u001b[1;32m    607\u001b[0m             \u001b[39m\"\u001b[39m\u001b[39m To begin a new transaction with this Session, \u001b[39m\u001b[39m\"\u001b[39m\n\u001b[1;32m    608\u001b[0m             \u001b[39m\"\u001b[39m\u001b[39mfirst issue Session.rollback().\u001b[39m\u001b[39m\"\u001b[39m\n\u001b[1;32m    609\u001b[0m             \u001b[39m\"\u001b[39m\u001b[39m Original exception was: \u001b[39m\u001b[39m%s\u001b[39;00m\u001b[39m\"\u001b[39m\n\u001b[1;32m    610\u001b[0m             \u001b[39m%\u001b[39m \u001b[39mself\u001b[39m\u001b[39m.\u001b[39m_rollback_exception,\n\u001b[1;32m    611\u001b[0m             code\u001b[39m=\u001b[39m\u001b[39m\"\u001b[39m\u001b[39m7s2a\u001b[39m\u001b[39m\"\u001b[39m,\n\u001b[1;32m    612\u001b[0m         )\n\u001b[1;32m    613\u001b[0m     \u001b[39melif\u001b[39;00m \u001b[39mnot\u001b[39;00m deactive_ok:\n\u001b[1;32m    614\u001b[0m         \u001b[39mraise\u001b[39;00m sa_exc\u001b[39m.\u001b[39mInvalidRequestError(\n\u001b[1;32m    615\u001b[0m             \u001b[39m\"\u001b[39m\u001b[39mThis session is in \u001b[39m\u001b[39m'\u001b[39m\u001b[39minactive\u001b[39m\u001b[39m'\u001b[39m\u001b[39m state, due to the \u001b[39m\u001b[39m\"\u001b[39m\n\u001b[1;32m    616\u001b[0m             \u001b[39m\"\u001b[39m\u001b[39mSQL transaction being rolled back; no further \u001b[39m\u001b[39m\"\u001b[39m\n\u001b[1;32m    617\u001b[0m             \u001b[39m\"\u001b[39m\u001b[39mSQL can be emitted within this transaction.\u001b[39m\u001b[39m\"\u001b[39m\n\u001b[1;32m    618\u001b[0m         )\n",
      "\u001b[0;31mPendingRollbackError\u001b[0m: This Session's transaction has been rolled back due to a previous exception during flush. To begin a new transaction with this Session, first issue Session.rollback(). Original exception was: (sqlite3.IntegrityError) UNIQUE constraint failed: human.id\n[SQL: INSERT INTO human (id, name, height, weight) VALUES (?, ?, ?, ?)]\n[parameters: (4, 'from_model', 100.0, 70.0)]\n(Background on this error at: https://sqlalche.me/e/14/gkpj) (Background on this error at: https://sqlalche.me/e/14/7s2a)"
     ]
    }
   ],
   "source": [
    "session.commit()"
   ]
  },
  {
   "cell_type": "code",
   "execution_count": null,
   "metadata": {},
   "outputs": [],
   "source": []
  },
  {
   "cell_type": "code",
   "execution_count": null,
   "metadata": {},
   "outputs": [
    {
     "ename": "PendingRollbackError",
     "evalue": "This Session's transaction has been rolled back due to a previous exception during flush. To begin a new transaction with this Session, first issue Session.rollback(). Original exception was: (sqlite3.IntegrityError) UNIQUE constraint failed: human.id\n[SQL: INSERT INTO human (id, name, height, weight) VALUES (?, ?, ?, ?)]\n[parameters: (4, 'from_model', 100.0, 70.0)]\n(Background on this error at: https://sqlalche.me/e/14/gkpj) (Background on this error at: https://sqlalche.me/e/14/7s2a)",
     "output_type": "error",
     "traceback": [
      "\u001b[0;31m---------------------------------------------------------------------------\u001b[0m",
      "\u001b[0;31mPendingRollbackError\u001b[0m                      Traceback (most recent call last)",
      "\u001b[1;32m/home/cre/_P/Python_WebApp/try_sqlalchemy.ipynb セル 16\u001b[0m line \u001b[0;36m1\n\u001b[0;32m----> <a href='vscode-notebook-cell://wsl%2Bubuntu-22.04/home/cre/_P/Python_WebApp/try_sqlalchemy.ipynb#X16sdnNjb2RlLXJlbW90ZQ%3D%3D?line=0'>1</a>\u001b[0m session\u001b[39m.\u001b[39;49mquery(Human)\u001b[39m.\u001b[39;49mfilter(Human\u001b[39m.\u001b[39;49mweight\u001b[39m<\u001b[39;49m\u001b[39m60\u001b[39;49m)\u001b[39m.\u001b[39;49mdelete()\n",
      "File \u001b[0;32m~/_P/Python_WebApp/venv/lib/python3.10/site-packages/sqlalchemy/orm/query.py:3222\u001b[0m, in \u001b[0;36mQuery.delete\u001b[0;34m(self, synchronize_session)\u001b[0m\n\u001b[1;32m   3220\u001b[0m delete_ \u001b[39m=\u001b[39m sql\u001b[39m.\u001b[39mdelete(\u001b[39m*\u001b[39m\u001b[39mself\u001b[39m\u001b[39m.\u001b[39m_raw_columns)\n\u001b[1;32m   3221\u001b[0m delete_\u001b[39m.\u001b[39m_where_criteria \u001b[39m=\u001b[39m \u001b[39mself\u001b[39m\u001b[39m.\u001b[39m_where_criteria\n\u001b[0;32m-> 3222\u001b[0m result \u001b[39m=\u001b[39m \u001b[39mself\u001b[39;49m\u001b[39m.\u001b[39;49msession\u001b[39m.\u001b[39;49mexecute(\n\u001b[1;32m   3223\u001b[0m     delete_,\n\u001b[1;32m   3224\u001b[0m     \u001b[39mself\u001b[39;49m\u001b[39m.\u001b[39;49m_params,\n\u001b[1;32m   3225\u001b[0m     execution_options\u001b[39m=\u001b[39;49m{\u001b[39m\"\u001b[39;49m\u001b[39msynchronize_session\u001b[39;49m\u001b[39m\"\u001b[39;49m: synchronize_session},\n\u001b[1;32m   3226\u001b[0m )\n\u001b[1;32m   3227\u001b[0m bulk_del\u001b[39m.\u001b[39mresult \u001b[39m=\u001b[39m result\n\u001b[1;32m   3228\u001b[0m \u001b[39mself\u001b[39m\u001b[39m.\u001b[39msession\u001b[39m.\u001b[39mdispatch\u001b[39m.\u001b[39mafter_bulk_delete(bulk_del)\n",
      "File \u001b[0;32m~/_P/Python_WebApp/venv/lib/python3.10/site-packages/sqlalchemy/orm/session.py:1716\u001b[0m, in \u001b[0;36mSession.execute\u001b[0;34m(self, statement, params, execution_options, bind_arguments, _parent_execute_state, _add_event, **kw)\u001b[0m\n\u001b[1;32m   1712\u001b[0m     execution_options \u001b[39m=\u001b[39m execution_options\u001b[39m.\u001b[39munion(\n\u001b[1;32m   1713\u001b[0m         \u001b[39mdict\u001b[39m(future_result\u001b[39m=\u001b[39m\u001b[39mFalse\u001b[39;00m)\n\u001b[1;32m   1714\u001b[0m     )\n\u001b[1;32m   1715\u001b[0m \u001b[39melse\u001b[39;00m:\n\u001b[0;32m-> 1716\u001b[0m     conn \u001b[39m=\u001b[39m \u001b[39mself\u001b[39;49m\u001b[39m.\u001b[39;49m_connection_for_bind(bind)\n\u001b[1;32m   1717\u001b[0m result \u001b[39m=\u001b[39m conn\u001b[39m.\u001b[39m_execute_20(statement, params \u001b[39mor\u001b[39;00m {}, execution_options)\n\u001b[1;32m   1719\u001b[0m \u001b[39mif\u001b[39;00m compile_state_cls:\n",
      "File \u001b[0;32m~/_P/Python_WebApp/venv/lib/python3.10/site-packages/sqlalchemy/orm/session.py:1555\u001b[0m, in \u001b[0;36mSession._connection_for_bind\u001b[0;34m(self, engine, execution_options, **kw)\u001b[0m\n\u001b[1;32m   1552\u001b[0m TransactionalContext\u001b[39m.\u001b[39m_trans_ctx_check(\u001b[39mself\u001b[39m)\n\u001b[1;32m   1554\u001b[0m \u001b[39mif\u001b[39;00m \u001b[39mself\u001b[39m\u001b[39m.\u001b[39m_transaction \u001b[39mis\u001b[39;00m \u001b[39mnot\u001b[39;00m \u001b[39mNone\u001b[39;00m \u001b[39mor\u001b[39;00m \u001b[39mself\u001b[39m\u001b[39m.\u001b[39m_autobegin():\n\u001b[0;32m-> 1555\u001b[0m     \u001b[39mreturn\u001b[39;00m \u001b[39mself\u001b[39;49m\u001b[39m.\u001b[39;49m_transaction\u001b[39m.\u001b[39;49m_connection_for_bind(\n\u001b[1;32m   1556\u001b[0m         engine, execution_options\n\u001b[1;32m   1557\u001b[0m     )\n\u001b[1;32m   1559\u001b[0m \u001b[39massert\u001b[39;00m \u001b[39mself\u001b[39m\u001b[39m.\u001b[39m_transaction \u001b[39mis\u001b[39;00m \u001b[39mNone\u001b[39;00m\n\u001b[1;32m   1560\u001b[0m \u001b[39massert\u001b[39;00m \u001b[39mself\u001b[39m\u001b[39m.\u001b[39mautocommit\n",
      "File \u001b[0;32m~/_P/Python_WebApp/venv/lib/python3.10/site-packages/sqlalchemy/orm/session.py:724\u001b[0m, in \u001b[0;36mSessionTransaction._connection_for_bind\u001b[0;34m(self, bind, execution_options)\u001b[0m\n\u001b[1;32m    723\u001b[0m \u001b[39mdef\u001b[39;00m \u001b[39m_connection_for_bind\u001b[39m(\u001b[39mself\u001b[39m, bind, execution_options):\n\u001b[0;32m--> 724\u001b[0m     \u001b[39mself\u001b[39;49m\u001b[39m.\u001b[39;49m_assert_active()\n\u001b[1;32m    726\u001b[0m     \u001b[39mif\u001b[39;00m bind \u001b[39min\u001b[39;00m \u001b[39mself\u001b[39m\u001b[39m.\u001b[39m_connections:\n\u001b[1;32m    727\u001b[0m         \u001b[39mif\u001b[39;00m execution_options:\n",
      "File \u001b[0;32m~/_P/Python_WebApp/venv/lib/python3.10/site-packages/sqlalchemy/orm/session.py:604\u001b[0m, in \u001b[0;36mSessionTransaction._assert_active\u001b[0;34m(self, prepared_ok, rollback_ok, deactive_ok, closed_msg)\u001b[0m\n\u001b[1;32m    602\u001b[0m \u001b[39mif\u001b[39;00m \u001b[39mnot\u001b[39;00m deactive_ok \u001b[39mand\u001b[39;00m \u001b[39mnot\u001b[39;00m rollback_ok:\n\u001b[1;32m    603\u001b[0m     \u001b[39mif\u001b[39;00m \u001b[39mself\u001b[39m\u001b[39m.\u001b[39m_rollback_exception:\n\u001b[0;32m--> 604\u001b[0m         \u001b[39mraise\u001b[39;00m sa_exc\u001b[39m.\u001b[39mPendingRollbackError(\n\u001b[1;32m    605\u001b[0m             \u001b[39m\"\u001b[39m\u001b[39mThis Session\u001b[39m\u001b[39m'\u001b[39m\u001b[39ms transaction has been rolled back \u001b[39m\u001b[39m\"\u001b[39m\n\u001b[1;32m    606\u001b[0m             \u001b[39m\"\u001b[39m\u001b[39mdue to a previous exception during flush.\u001b[39m\u001b[39m\"\u001b[39m\n\u001b[1;32m    607\u001b[0m             \u001b[39m\"\u001b[39m\u001b[39m To begin a new transaction with this Session, \u001b[39m\u001b[39m\"\u001b[39m\n\u001b[1;32m    608\u001b[0m             \u001b[39m\"\u001b[39m\u001b[39mfirst issue Session.rollback().\u001b[39m\u001b[39m\"\u001b[39m\n\u001b[1;32m    609\u001b[0m             \u001b[39m\"\u001b[39m\u001b[39m Original exception was: \u001b[39m\u001b[39m%s\u001b[39;00m\u001b[39m\"\u001b[39m\n\u001b[1;32m    610\u001b[0m             \u001b[39m%\u001b[39m \u001b[39mself\u001b[39m\u001b[39m.\u001b[39m_rollback_exception,\n\u001b[1;32m    611\u001b[0m             code\u001b[39m=\u001b[39m\u001b[39m\"\u001b[39m\u001b[39m7s2a\u001b[39m\u001b[39m\"\u001b[39m,\n\u001b[1;32m    612\u001b[0m         )\n\u001b[1;32m    613\u001b[0m     \u001b[39melif\u001b[39;00m \u001b[39mnot\u001b[39;00m deactive_ok:\n\u001b[1;32m    614\u001b[0m         \u001b[39mraise\u001b[39;00m sa_exc\u001b[39m.\u001b[39mInvalidRequestError(\n\u001b[1;32m    615\u001b[0m             \u001b[39m\"\u001b[39m\u001b[39mThis session is in \u001b[39m\u001b[39m'\u001b[39m\u001b[39minactive\u001b[39m\u001b[39m'\u001b[39m\u001b[39m state, due to the \u001b[39m\u001b[39m\"\u001b[39m\n\u001b[1;32m    616\u001b[0m             \u001b[39m\"\u001b[39m\u001b[39mSQL transaction being rolled back; no further \u001b[39m\u001b[39m\"\u001b[39m\n\u001b[1;32m    617\u001b[0m             \u001b[39m\"\u001b[39m\u001b[39mSQL can be emitted within this transaction.\u001b[39m\u001b[39m\"\u001b[39m\n\u001b[1;32m    618\u001b[0m         )\n",
      "\u001b[0;31mPendingRollbackError\u001b[0m: This Session's transaction has been rolled back due to a previous exception during flush. To begin a new transaction with this Session, first issue Session.rollback(). Original exception was: (sqlite3.IntegrityError) UNIQUE constraint failed: human.id\n[SQL: INSERT INTO human (id, name, height, weight) VALUES (?, ?, ?, ?)]\n[parameters: (4, 'from_model', 100.0, 70.0)]\n(Background on this error at: https://sqlalche.me/e/14/gkpj) (Background on this error at: https://sqlalche.me/e/14/7s2a)"
     ]
    }
   ],
   "source": [
    "session.query(Human).filter(Human.weight<60).delete()"
   ]
  },
  {
   "cell_type": "code",
   "execution_count": null,
   "metadata": {},
   "outputs": [
    {
     "name": "stdout",
     "output_type": "stream",
     "text": [
      "2023-10-14 13:34:26,897 INFO sqlalchemy.engine.Engine COMMIT\n"
     ]
    }
   ],
   "source": [
    "session.commit()"
   ]
  },
  {
   "cell_type": "code",
   "execution_count": null,
   "metadata": {},
   "outputs": [
    {
     "ename": "PendingRollbackError",
     "evalue": "This Session's transaction has been rolled back due to a previous exception during flush. To begin a new transaction with this Session, first issue Session.rollback(). Original exception was: (sqlite3.IntegrityError) UNIQUE constraint failed: human.id\n[SQL: INSERT INTO human (id, name, height, weight) VALUES (?, ?, ?, ?)]\n[parameters: (4, 'from_model', 100.0, 70.0)]\n(Background on this error at: https://sqlalche.me/e/14/gkpj) (Background on this error at: https://sqlalche.me/e/14/7s2a)",
     "output_type": "error",
     "traceback": [
      "\u001b[0;31m---------------------------------------------------------------------------\u001b[0m",
      "\u001b[0;31mPendingRollbackError\u001b[0m                      Traceback (most recent call last)",
      "\u001b[1;32m/home/cre/_P/Python_WebApp/try_sqlalchemy.ipynb セル 18\u001b[0m line \u001b[0;36m1\n\u001b[0;32m----> <a href='vscode-notebook-cell://wsl%2Bubuntu-22.04/home/cre/_P/Python_WebApp/try_sqlalchemy.ipynb#X21sdnNjb2RlLXJlbW90ZQ%3D%3D?line=0'>1</a>\u001b[0m result_list \u001b[39m=\u001b[39m session\u001b[39m.\u001b[39;49mexecute(\u001b[39m'\u001b[39;49m\u001b[39mSELECT * FROM human WHERE id = :id\u001b[39;49m\u001b[39m'\u001b[39;49m,{\u001b[39m\"\u001b[39;49m\u001b[39mid\u001b[39;49m\u001b[39m\"\u001b[39;49m:\u001b[39m4\u001b[39;49m})\n",
      "File \u001b[0;32m~/_P/Python_WebApp/venv/lib/python3.10/site-packages/sqlalchemy/orm/session.py:1716\u001b[0m, in \u001b[0;36mSession.execute\u001b[0;34m(self, statement, params, execution_options, bind_arguments, _parent_execute_state, _add_event, **kw)\u001b[0m\n\u001b[1;32m   1712\u001b[0m     execution_options \u001b[39m=\u001b[39m execution_options\u001b[39m.\u001b[39munion(\n\u001b[1;32m   1713\u001b[0m         \u001b[39mdict\u001b[39m(future_result\u001b[39m=\u001b[39m\u001b[39mFalse\u001b[39;00m)\n\u001b[1;32m   1714\u001b[0m     )\n\u001b[1;32m   1715\u001b[0m \u001b[39melse\u001b[39;00m:\n\u001b[0;32m-> 1716\u001b[0m     conn \u001b[39m=\u001b[39m \u001b[39mself\u001b[39;49m\u001b[39m.\u001b[39;49m_connection_for_bind(bind)\n\u001b[1;32m   1717\u001b[0m result \u001b[39m=\u001b[39m conn\u001b[39m.\u001b[39m_execute_20(statement, params \u001b[39mor\u001b[39;00m {}, execution_options)\n\u001b[1;32m   1719\u001b[0m \u001b[39mif\u001b[39;00m compile_state_cls:\n",
      "File \u001b[0;32m~/_P/Python_WebApp/venv/lib/python3.10/site-packages/sqlalchemy/orm/session.py:1555\u001b[0m, in \u001b[0;36mSession._connection_for_bind\u001b[0;34m(self, engine, execution_options, **kw)\u001b[0m\n\u001b[1;32m   1552\u001b[0m TransactionalContext\u001b[39m.\u001b[39m_trans_ctx_check(\u001b[39mself\u001b[39m)\n\u001b[1;32m   1554\u001b[0m \u001b[39mif\u001b[39;00m \u001b[39mself\u001b[39m\u001b[39m.\u001b[39m_transaction \u001b[39mis\u001b[39;00m \u001b[39mnot\u001b[39;00m \u001b[39mNone\u001b[39;00m \u001b[39mor\u001b[39;00m \u001b[39mself\u001b[39m\u001b[39m.\u001b[39m_autobegin():\n\u001b[0;32m-> 1555\u001b[0m     \u001b[39mreturn\u001b[39;00m \u001b[39mself\u001b[39;49m\u001b[39m.\u001b[39;49m_transaction\u001b[39m.\u001b[39;49m_connection_for_bind(\n\u001b[1;32m   1556\u001b[0m         engine, execution_options\n\u001b[1;32m   1557\u001b[0m     )\n\u001b[1;32m   1559\u001b[0m \u001b[39massert\u001b[39;00m \u001b[39mself\u001b[39m\u001b[39m.\u001b[39m_transaction \u001b[39mis\u001b[39;00m \u001b[39mNone\u001b[39;00m\n\u001b[1;32m   1560\u001b[0m \u001b[39massert\u001b[39;00m \u001b[39mself\u001b[39m\u001b[39m.\u001b[39mautocommit\n",
      "File \u001b[0;32m~/_P/Python_WebApp/venv/lib/python3.10/site-packages/sqlalchemy/orm/session.py:724\u001b[0m, in \u001b[0;36mSessionTransaction._connection_for_bind\u001b[0;34m(self, bind, execution_options)\u001b[0m\n\u001b[1;32m    723\u001b[0m \u001b[39mdef\u001b[39;00m \u001b[39m_connection_for_bind\u001b[39m(\u001b[39mself\u001b[39m, bind, execution_options):\n\u001b[0;32m--> 724\u001b[0m     \u001b[39mself\u001b[39;49m\u001b[39m.\u001b[39;49m_assert_active()\n\u001b[1;32m    726\u001b[0m     \u001b[39mif\u001b[39;00m bind \u001b[39min\u001b[39;00m \u001b[39mself\u001b[39m\u001b[39m.\u001b[39m_connections:\n\u001b[1;32m    727\u001b[0m         \u001b[39mif\u001b[39;00m execution_options:\n",
      "File \u001b[0;32m~/_P/Python_WebApp/venv/lib/python3.10/site-packages/sqlalchemy/orm/session.py:604\u001b[0m, in \u001b[0;36mSessionTransaction._assert_active\u001b[0;34m(self, prepared_ok, rollback_ok, deactive_ok, closed_msg)\u001b[0m\n\u001b[1;32m    602\u001b[0m \u001b[39mif\u001b[39;00m \u001b[39mnot\u001b[39;00m deactive_ok \u001b[39mand\u001b[39;00m \u001b[39mnot\u001b[39;00m rollback_ok:\n\u001b[1;32m    603\u001b[0m     \u001b[39mif\u001b[39;00m \u001b[39mself\u001b[39m\u001b[39m.\u001b[39m_rollback_exception:\n\u001b[0;32m--> 604\u001b[0m         \u001b[39mraise\u001b[39;00m sa_exc\u001b[39m.\u001b[39mPendingRollbackError(\n\u001b[1;32m    605\u001b[0m             \u001b[39m\"\u001b[39m\u001b[39mThis Session\u001b[39m\u001b[39m'\u001b[39m\u001b[39ms transaction has been rolled back \u001b[39m\u001b[39m\"\u001b[39m\n\u001b[1;32m    606\u001b[0m             \u001b[39m\"\u001b[39m\u001b[39mdue to a previous exception during flush.\u001b[39m\u001b[39m\"\u001b[39m\n\u001b[1;32m    607\u001b[0m             \u001b[39m\"\u001b[39m\u001b[39m To begin a new transaction with this Session, \u001b[39m\u001b[39m\"\u001b[39m\n\u001b[1;32m    608\u001b[0m             \u001b[39m\"\u001b[39m\u001b[39mfirst issue Session.rollback().\u001b[39m\u001b[39m\"\u001b[39m\n\u001b[1;32m    609\u001b[0m             \u001b[39m\"\u001b[39m\u001b[39m Original exception was: \u001b[39m\u001b[39m%s\u001b[39;00m\u001b[39m\"\u001b[39m\n\u001b[1;32m    610\u001b[0m             \u001b[39m%\u001b[39m \u001b[39mself\u001b[39m\u001b[39m.\u001b[39m_rollback_exception,\n\u001b[1;32m    611\u001b[0m             code\u001b[39m=\u001b[39m\u001b[39m\"\u001b[39m\u001b[39m7s2a\u001b[39m\u001b[39m\"\u001b[39m,\n\u001b[1;32m    612\u001b[0m         )\n\u001b[1;32m    613\u001b[0m     \u001b[39melif\u001b[39;00m \u001b[39mnot\u001b[39;00m deactive_ok:\n\u001b[1;32m    614\u001b[0m         \u001b[39mraise\u001b[39;00m sa_exc\u001b[39m.\u001b[39mInvalidRequestError(\n\u001b[1;32m    615\u001b[0m             \u001b[39m\"\u001b[39m\u001b[39mThis session is in \u001b[39m\u001b[39m'\u001b[39m\u001b[39minactive\u001b[39m\u001b[39m'\u001b[39m\u001b[39m state, due to the \u001b[39m\u001b[39m\"\u001b[39m\n\u001b[1;32m    616\u001b[0m             \u001b[39m\"\u001b[39m\u001b[39mSQL transaction being rolled back; no further \u001b[39m\u001b[39m\"\u001b[39m\n\u001b[1;32m    617\u001b[0m             \u001b[39m\"\u001b[39m\u001b[39mSQL can be emitted within this transaction.\u001b[39m\u001b[39m\"\u001b[39m\n\u001b[1;32m    618\u001b[0m         )\n",
      "\u001b[0;31mPendingRollbackError\u001b[0m: This Session's transaction has been rolled back due to a previous exception during flush. To begin a new transaction with this Session, first issue Session.rollback(). Original exception was: (sqlite3.IntegrityError) UNIQUE constraint failed: human.id\n[SQL: INSERT INTO human (id, name, height, weight) VALUES (?, ?, ?, ?)]\n[parameters: (4, 'from_model', 100.0, 70.0)]\n(Background on this error at: https://sqlalche.me/e/14/gkpj) (Background on this error at: https://sqlalche.me/e/14/7s2a)"
     ]
    }
   ],
   "source": [
    "result_list = session.execute('SELECT * FROM human WHERE id = :id',{\"id\":4})"
   ]
  },
  {
   "cell_type": "code",
   "execution_count": null,
   "metadata": {},
   "outputs": [
    {
     "name": "stdout",
     "output_type": "stream",
     "text": [
      "(4, 'from_model', 100.0, 99.9)\n"
     ]
    }
   ],
   "source": [
    "for result in result_list:\n",
    "    print(result)"
   ]
  },
  {
   "cell_type": "code",
   "execution_count": 32,
   "metadata": {},
   "outputs": [
    {
     "name": "stdout",
     "output_type": "stream",
     "text": [
      "2023-10-14 16:56:27,915 INFO sqlalchemy.engine.Engine SELECT human.id AS human_id, human.name AS human_name, human.height AS human_height, human.weight AS human_weight, person.id AS person_id, person.name AS person_name, person.size AS person_size \n",
      "FROM human LEFT OUTER JOIN person ON person.id = human.id\n",
      "2023-10-14 16:56:27,917 INFO sqlalchemy.engine.Engine [cached since 308.2s ago] ()\n"
     ]
    }
   ],
   "source": [
    "r = session.query(Human, Person).outerjoin(Person, Person.id == Human.id).all()"
   ]
  },
  {
   "cell_type": "code",
   "execution_count": 37,
   "metadata": {},
   "outputs": [
    {
     "ename": "AttributeError",
     "evalue": "'NoneType' object has no attribute 'id'",
     "output_type": "error",
     "traceback": [
      "\u001b[0;31m---------------------------------------------------------------------------\u001b[0m",
      "\u001b[0;31mAttributeError\u001b[0m                            Traceback (most recent call last)",
      "\u001b[1;32m/home/cre/_P/Python_WebApp/try_sqlalchemy.ipynb セル 21\u001b[0m line \u001b[0;36m2\n\u001b[1;32m      <a href='vscode-notebook-cell://wsl%2Bubuntu-22.04/home/cre/_P/Python_WebApp/try_sqlalchemy.ipynb#X32sdnNjb2RlLXJlbW90ZQ%3D%3D?line=0'>1</a>\u001b[0m \u001b[39mfor\u001b[39;00m q \u001b[39min\u001b[39;00m r:\n\u001b[0;32m----> <a href='vscode-notebook-cell://wsl%2Bubuntu-22.04/home/cre/_P/Python_WebApp/try_sqlalchemy.ipynb#X32sdnNjb2RlLXJlbW90ZQ%3D%3D?line=1'>2</a>\u001b[0m     \u001b[39mprint\u001b[39m(q\u001b[39m.\u001b[39;49mPerson\u001b[39m.\u001b[39;49mid) \n",
      "\u001b[0;31mAttributeError\u001b[0m: 'NoneType' object has no attribute 'id'"
     ]
    }
   ],
   "source": [
    "for q in r:\n",
    "    print(q.Human.id) "
   ]
  },
  {
   "cell_type": "code",
   "execution_count": null,
   "metadata": {},
   "outputs": [],
   "source": []
  },
  {
   "cell_type": "code",
   "execution_count": null,
   "metadata": {},
   "outputs": [
    {
     "ename": "PendingRollbackError",
     "evalue": "This Session's transaction has been rolled back due to a previous exception during flush. To begin a new transaction with this Session, first issue Session.rollback(). Original exception was: (sqlite3.IntegrityError) UNIQUE constraint failed: human.id\n[SQL: INSERT INTO human (id, name, height, weight) VALUES (?, ?, ?, ?)]\n[parameters: (4, 'from_model', 100.0, 70.0)]\n(Background on this error at: https://sqlalche.me/e/14/gkpj) (Background on this error at: https://sqlalche.me/e/14/7s2a)",
     "output_type": "error",
     "traceback": [
      "\u001b[0;31m---------------------------------------------------------------------------\u001b[0m",
      "\u001b[0;31mPendingRollbackError\u001b[0m                      Traceback (most recent call last)",
      "\u001b[1;32m/home/cre/_P/Python_WebApp/try_sqlalchemy.ipynb セル 22\u001b[0m line \u001b[0;36m1\n\u001b[0;32m----> <a href='vscode-notebook-cell://wsl%2Bubuntu-22.04/home/cre/_P/Python_WebApp/try_sqlalchemy.ipynb#X31sdnNjb2RlLXJlbW90ZQ%3D%3D?line=0'>1</a>\u001b[0m q \u001b[39m=\u001b[39m session\u001b[39m.\u001b[39;49mquery(Human, Person)\u001b[39m.\u001b[39;49mouterjoin(Person, Person\u001b[39m.\u001b[39;49mid \u001b[39m==\u001b[39;49m Human\u001b[39m.\u001b[39;49mid)\u001b[39m.\u001b[39;49mall()\n",
      "File \u001b[0;32m~/_P/Python_WebApp/venv/lib/python3.10/site-packages/sqlalchemy/orm/query.py:2773\u001b[0m, in \u001b[0;36mQuery.all\u001b[0;34m(self)\u001b[0m\n\u001b[1;32m   2757\u001b[0m \u001b[39mdef\u001b[39;00m \u001b[39mall\u001b[39m(\u001b[39mself\u001b[39m):\n\u001b[1;32m   2758\u001b[0m \u001b[39m    \u001b[39m\u001b[39m\"\"\"Return the results represented by this :class:`_query.Query`\u001b[39;00m\n\u001b[1;32m   2759\u001b[0m \u001b[39m    as a list.\u001b[39;00m\n\u001b[1;32m   2760\u001b[0m \n\u001b[0;32m   (...)\u001b[0m\n\u001b[1;32m   2771\u001b[0m \u001b[39m            :ref:`faq_query_deduplicating`\u001b[39;00m\n\u001b[1;32m   2772\u001b[0m \u001b[39m    \"\"\"\u001b[39;00m\n\u001b[0;32m-> 2773\u001b[0m     \u001b[39mreturn\u001b[39;00m \u001b[39mself\u001b[39;49m\u001b[39m.\u001b[39;49m_iter()\u001b[39m.\u001b[39mall()\n",
      "File \u001b[0;32m~/_P/Python_WebApp/venv/lib/python3.10/site-packages/sqlalchemy/orm/query.py:2916\u001b[0m, in \u001b[0;36mQuery._iter\u001b[0;34m(self)\u001b[0m\n\u001b[1;32m   2913\u001b[0m params \u001b[39m=\u001b[39m \u001b[39mself\u001b[39m\u001b[39m.\u001b[39m_params\n\u001b[1;32m   2915\u001b[0m statement \u001b[39m=\u001b[39m \u001b[39mself\u001b[39m\u001b[39m.\u001b[39m_statement_20()\n\u001b[0;32m-> 2916\u001b[0m result \u001b[39m=\u001b[39m \u001b[39mself\u001b[39;49m\u001b[39m.\u001b[39;49msession\u001b[39m.\u001b[39;49mexecute(\n\u001b[1;32m   2917\u001b[0m     statement,\n\u001b[1;32m   2918\u001b[0m     params,\n\u001b[1;32m   2919\u001b[0m     execution_options\u001b[39m=\u001b[39;49m{\u001b[39m\"\u001b[39;49m\u001b[39m_sa_orm_load_options\u001b[39;49m\u001b[39m\"\u001b[39;49m: \u001b[39mself\u001b[39;49m\u001b[39m.\u001b[39;49mload_options},\n\u001b[1;32m   2920\u001b[0m )\n\u001b[1;32m   2922\u001b[0m \u001b[39m# legacy: automatically set scalars, unique\u001b[39;00m\n\u001b[1;32m   2923\u001b[0m \u001b[39mif\u001b[39;00m result\u001b[39m.\u001b[39m_attributes\u001b[39m.\u001b[39mget(\u001b[39m\"\u001b[39m\u001b[39mis_single_entity\u001b[39m\u001b[39m\"\u001b[39m, \u001b[39mFalse\u001b[39;00m):\n",
      "File \u001b[0;32m~/_P/Python_WebApp/venv/lib/python3.10/site-packages/sqlalchemy/orm/session.py:1716\u001b[0m, in \u001b[0;36mSession.execute\u001b[0;34m(self, statement, params, execution_options, bind_arguments, _parent_execute_state, _add_event, **kw)\u001b[0m\n\u001b[1;32m   1712\u001b[0m     execution_options \u001b[39m=\u001b[39m execution_options\u001b[39m.\u001b[39munion(\n\u001b[1;32m   1713\u001b[0m         \u001b[39mdict\u001b[39m(future_result\u001b[39m=\u001b[39m\u001b[39mFalse\u001b[39;00m)\n\u001b[1;32m   1714\u001b[0m     )\n\u001b[1;32m   1715\u001b[0m \u001b[39melse\u001b[39;00m:\n\u001b[0;32m-> 1716\u001b[0m     conn \u001b[39m=\u001b[39m \u001b[39mself\u001b[39;49m\u001b[39m.\u001b[39;49m_connection_for_bind(bind)\n\u001b[1;32m   1717\u001b[0m result \u001b[39m=\u001b[39m conn\u001b[39m.\u001b[39m_execute_20(statement, params \u001b[39mor\u001b[39;00m {}, execution_options)\n\u001b[1;32m   1719\u001b[0m \u001b[39mif\u001b[39;00m compile_state_cls:\n",
      "File \u001b[0;32m~/_P/Python_WebApp/venv/lib/python3.10/site-packages/sqlalchemy/orm/session.py:1555\u001b[0m, in \u001b[0;36mSession._connection_for_bind\u001b[0;34m(self, engine, execution_options, **kw)\u001b[0m\n\u001b[1;32m   1552\u001b[0m TransactionalContext\u001b[39m.\u001b[39m_trans_ctx_check(\u001b[39mself\u001b[39m)\n\u001b[1;32m   1554\u001b[0m \u001b[39mif\u001b[39;00m \u001b[39mself\u001b[39m\u001b[39m.\u001b[39m_transaction \u001b[39mis\u001b[39;00m \u001b[39mnot\u001b[39;00m \u001b[39mNone\u001b[39;00m \u001b[39mor\u001b[39;00m \u001b[39mself\u001b[39m\u001b[39m.\u001b[39m_autobegin():\n\u001b[0;32m-> 1555\u001b[0m     \u001b[39mreturn\u001b[39;00m \u001b[39mself\u001b[39;49m\u001b[39m.\u001b[39;49m_transaction\u001b[39m.\u001b[39;49m_connection_for_bind(\n\u001b[1;32m   1556\u001b[0m         engine, execution_options\n\u001b[1;32m   1557\u001b[0m     )\n\u001b[1;32m   1559\u001b[0m \u001b[39massert\u001b[39;00m \u001b[39mself\u001b[39m\u001b[39m.\u001b[39m_transaction \u001b[39mis\u001b[39;00m \u001b[39mNone\u001b[39;00m\n\u001b[1;32m   1560\u001b[0m \u001b[39massert\u001b[39;00m \u001b[39mself\u001b[39m\u001b[39m.\u001b[39mautocommit\n",
      "File \u001b[0;32m~/_P/Python_WebApp/venv/lib/python3.10/site-packages/sqlalchemy/orm/session.py:724\u001b[0m, in \u001b[0;36mSessionTransaction._connection_for_bind\u001b[0;34m(self, bind, execution_options)\u001b[0m\n\u001b[1;32m    723\u001b[0m \u001b[39mdef\u001b[39;00m \u001b[39m_connection_for_bind\u001b[39m(\u001b[39mself\u001b[39m, bind, execution_options):\n\u001b[0;32m--> 724\u001b[0m     \u001b[39mself\u001b[39;49m\u001b[39m.\u001b[39;49m_assert_active()\n\u001b[1;32m    726\u001b[0m     \u001b[39mif\u001b[39;00m bind \u001b[39min\u001b[39;00m \u001b[39mself\u001b[39m\u001b[39m.\u001b[39m_connections:\n\u001b[1;32m    727\u001b[0m         \u001b[39mif\u001b[39;00m execution_options:\n",
      "File \u001b[0;32m~/_P/Python_WebApp/venv/lib/python3.10/site-packages/sqlalchemy/orm/session.py:604\u001b[0m, in \u001b[0;36mSessionTransaction._assert_active\u001b[0;34m(self, prepared_ok, rollback_ok, deactive_ok, closed_msg)\u001b[0m\n\u001b[1;32m    602\u001b[0m \u001b[39mif\u001b[39;00m \u001b[39mnot\u001b[39;00m deactive_ok \u001b[39mand\u001b[39;00m \u001b[39mnot\u001b[39;00m rollback_ok:\n\u001b[1;32m    603\u001b[0m     \u001b[39mif\u001b[39;00m \u001b[39mself\u001b[39m\u001b[39m.\u001b[39m_rollback_exception:\n\u001b[0;32m--> 604\u001b[0m         \u001b[39mraise\u001b[39;00m sa_exc\u001b[39m.\u001b[39mPendingRollbackError(\n\u001b[1;32m    605\u001b[0m             \u001b[39m\"\u001b[39m\u001b[39mThis Session\u001b[39m\u001b[39m'\u001b[39m\u001b[39ms transaction has been rolled back \u001b[39m\u001b[39m\"\u001b[39m\n\u001b[1;32m    606\u001b[0m             \u001b[39m\"\u001b[39m\u001b[39mdue to a previous exception during flush.\u001b[39m\u001b[39m\"\u001b[39m\n\u001b[1;32m    607\u001b[0m             \u001b[39m\"\u001b[39m\u001b[39m To begin a new transaction with this Session, \u001b[39m\u001b[39m\"\u001b[39m\n\u001b[1;32m    608\u001b[0m             \u001b[39m\"\u001b[39m\u001b[39mfirst issue Session.rollback().\u001b[39m\u001b[39m\"\u001b[39m\n\u001b[1;32m    609\u001b[0m             \u001b[39m\"\u001b[39m\u001b[39m Original exception was: \u001b[39m\u001b[39m%s\u001b[39;00m\u001b[39m\"\u001b[39m\n\u001b[1;32m    610\u001b[0m             \u001b[39m%\u001b[39m \u001b[39mself\u001b[39m\u001b[39m.\u001b[39m_rollback_exception,\n\u001b[1;32m    611\u001b[0m             code\u001b[39m=\u001b[39m\u001b[39m\"\u001b[39m\u001b[39m7s2a\u001b[39m\u001b[39m\"\u001b[39m,\n\u001b[1;32m    612\u001b[0m         )\n\u001b[1;32m    613\u001b[0m     \u001b[39melif\u001b[39;00m \u001b[39mnot\u001b[39;00m deactive_ok:\n\u001b[1;32m    614\u001b[0m         \u001b[39mraise\u001b[39;00m sa_exc\u001b[39m.\u001b[39mInvalidRequestError(\n\u001b[1;32m    615\u001b[0m             \u001b[39m\"\u001b[39m\u001b[39mThis session is in \u001b[39m\u001b[39m'\u001b[39m\u001b[39minactive\u001b[39m\u001b[39m'\u001b[39m\u001b[39m state, due to the \u001b[39m\u001b[39m\"\u001b[39m\n\u001b[1;32m    616\u001b[0m             \u001b[39m\"\u001b[39m\u001b[39mSQL transaction being rolled back; no further \u001b[39m\u001b[39m\"\u001b[39m\n\u001b[1;32m    617\u001b[0m             \u001b[39m\"\u001b[39m\u001b[39mSQL can be emitted within this transaction.\u001b[39m\u001b[39m\"\u001b[39m\n\u001b[1;32m    618\u001b[0m         )\n",
      "\u001b[0;31mPendingRollbackError\u001b[0m: This Session's transaction has been rolled back due to a previous exception during flush. To begin a new transaction with this Session, first issue Session.rollback(). Original exception was: (sqlite3.IntegrityError) UNIQUE constraint failed: human.id\n[SQL: INSERT INTO human (id, name, height, weight) VALUES (?, ?, ?, ?)]\n[parameters: (4, 'from_model', 100.0, 70.0)]\n(Background on this error at: https://sqlalche.me/e/14/gkpj) (Background on this error at: https://sqlalche.me/e/14/7s2a)"
     ]
    }
   ],
   "source": [
    "\n"
   ]
  },
  {
   "cell_type": "code",
   "execution_count": null,
   "metadata": {},
   "outputs": [],
   "source": [
    "session.close()"
   ]
  }
 ],
 "metadata": {
  "kernelspec": {
   "display_name": ".venv",
   "language": "python",
   "name": "python3"
  },
  "language_info": {
   "codemirror_mode": {
    "name": "ipython",
    "version": 3
   },
   "file_extension": ".py",
   "mimetype": "text/x-python",
   "name": "python",
   "nbconvert_exporter": "python",
   "pygments_lexer": "ipython3",
   "version": "3.10.6"
  }
 },
 "nbformat": 4,
 "nbformat_minor": 2
}
