{
 "cells": [
  {
   "cell_type": "code",
   "execution_count": 18,
   "metadata": {},
   "outputs": [],
   "source": [
    "from sqlalchemy import create_engine\n",
    "from sqlalchemy.orm import Session\n",
    "from test_model import Human"
   ]
  },
  {
   "cell_type": "code",
   "execution_count": 19,
   "metadata": {},
   "outputs": [],
   "source": [
    "engine = create_engine('sqlite:///test_db',echo=True)\n",
    "#Pythonを使用しての開発 Webアプリ２ 20ページ"
   ]
  },
  {
   "cell_type": "code",
   "execution_count": 20,
   "metadata": {},
   "outputs": [],
   "source": [
    "session = Session(engine)"
   ]
  },
  {
   "cell_type": "code",
   "execution_count": 21,
   "metadata": {},
   "outputs": [
    {
     "name": "stdout",
     "output_type": "stream",
     "text": [
      "2023-10-14 13:29:03,312 INFO sqlalchemy.engine.Engine BEGIN (implicit)\n",
      "2023-10-14 13:29:03,314 INFO sqlalchemy.engine.Engine SELECT human.id AS human_id, human.name AS human_name, human.height AS human_height, human.weight AS human_weight \n",
      "FROM human\n",
      "2023-10-14 13:29:03,316 INFO sqlalchemy.engine.Engine [generated in 0.00151s] ()\n"
     ]
    }
   ],
   "source": [
    "persons = session.query(Human).all()\n"
   ]
  },
  {
   "cell_type": "code",
   "execution_count": 22,
   "metadata": {},
   "outputs": [
    {
     "name": "stdout",
     "output_type": "stream",
     "text": [
      "id:1 name:changed_name size:10.1\n",
      "id:2 name:b size:None\n",
      "id:100 name:name_z size:99.9\n"
     ]
    }
   ],
   "source": [
    "for person in persons:\n",
    "    print(f'id:{person.id} name:{person.name} size:{person.height}')"
   ]
  },
  {
   "cell_type": "code",
   "execution_count": 23,
   "metadata": {},
   "outputs": [],
   "source": [
    "new_person = Human(id=4,name='from_model',height=100,weight=70)"
   ]
  },
  {
   "cell_type": "code",
   "execution_count": 24,
   "metadata": {},
   "outputs": [],
   "source": [
    "session.add(new_person)"
   ]
  },
  {
   "cell_type": "code",
   "execution_count": 25,
   "metadata": {},
   "outputs": [
    {
     "name": "stdout",
     "output_type": "stream",
     "text": [
      "2023-10-14 13:29:03,816 INFO sqlalchemy.engine.Engine INSERT INTO human (id, name, height, weight) VALUES (?, ?, ?, ?)\n",
      "2023-10-14 13:29:03,818 INFO sqlalchemy.engine.Engine [generated in 0.00259s] (4, 'from_model', 100.0, 70.0)\n",
      "2023-10-14 13:29:03,821 INFO sqlalchemy.engine.Engine COMMIT\n"
     ]
    }
   ],
   "source": [
    "session.commit()\n"
   ]
  },
  {
   "cell_type": "code",
   "execution_count": 26,
   "metadata": {},
   "outputs": [
    {
     "name": "stdout",
     "output_type": "stream",
     "text": [
      "2023-10-14 13:29:04,010 INFO sqlalchemy.engine.Engine BEGIN (implicit)\n",
      "2023-10-14 13:29:04,012 INFO sqlalchemy.engine.Engine SELECT human.id AS human_id, human.name AS human_name, human.height AS human_height, human.weight AS human_weight \n",
      "FROM human\n",
      "2023-10-14 13:29:04,013 INFO sqlalchemy.engine.Engine [cached since 0.6983s ago] ()\n"
     ]
    }
   ],
   "source": [
    "persons = session.query(Human).all()"
   ]
  },
  {
   "cell_type": "code",
   "execution_count": 27,
   "metadata": {},
   "outputs": [
    {
     "name": "stdout",
     "output_type": "stream",
     "text": [
      "{'_sa_instance_state': <sqlalchemy.orm.state.InstanceState object at 0x7fd117cb5780>, 'name': 'changed_name', 'height': 10.1, 'id': 1, 'weight': 40.4}\n",
      "{'_sa_instance_state': <sqlalchemy.orm.state.InstanceState object at 0x7fd117cb6590>, 'name': 'b', 'height': None, 'id': 2, 'weight': 50.5}\n",
      "{'_sa_instance_state': <sqlalchemy.orm.state.InstanceState object at 0x7fd117cb6620>, 'name': 'name_z', 'height': 99.9, 'id': 100, 'weight': 80.0}\n",
      "{'_sa_instance_state': <sqlalchemy.orm.state.InstanceState object at 0x7fd117ab6620>, 'name': 'from_model', 'height': 100.0, 'id': 4, 'weight': 70.0}\n"
     ]
    }
   ],
   "source": [
    "for person in persons:\n",
    "    print(person.__dict__)"
   ]
  },
  {
   "cell_type": "code",
   "execution_count": 28,
   "metadata": {},
   "outputs": [
    {
     "name": "stdout",
     "output_type": "stream",
     "text": [
      "2023-10-14 13:34:17,560 INFO sqlalchemy.engine.Engine SELECT human.id AS human_id, human.name AS human_name, human.height AS human_height, human.weight AS human_weight \n",
      "FROM human \n",
      "WHERE human.id = ?\n",
      " LIMIT ? OFFSET ?\n",
      "2023-10-14 13:34:17,562 INFO sqlalchemy.engine.Engine [generated in 0.00206s] (4, 1, 0)\n"
     ]
    }
   ],
   "source": [
    "person4 = session.query(Human).filter(Human.id==4).first()"
   ]
  },
  {
   "cell_type": "code",
   "execution_count": 29,
   "metadata": {},
   "outputs": [],
   "source": [
    "person4.weight= 99.9"
   ]
  },
  {
   "cell_type": "code",
   "execution_count": 30,
   "metadata": {},
   "outputs": [
    {
     "name": "stdout",
     "output_type": "stream",
     "text": [
      "2023-10-14 13:34:21,958 INFO sqlalchemy.engine.Engine UPDATE human SET weight=? WHERE human.id = ?\n",
      "2023-10-14 13:34:21,961 INFO sqlalchemy.engine.Engine [generated in 0.00283s] (99.9, 4)\n",
      "2023-10-14 13:34:21,963 INFO sqlalchemy.engine.Engine COMMIT\n"
     ]
    }
   ],
   "source": [
    "session.commit()"
   ]
  },
  {
   "cell_type": "code",
   "execution_count": 31,
   "metadata": {},
   "outputs": [
    {
     "name": "stdout",
     "output_type": "stream",
     "text": [
      "2023-10-14 13:34:24,520 INFO sqlalchemy.engine.Engine BEGIN (implicit)\n",
      "2023-10-14 13:34:24,530 INFO sqlalchemy.engine.Engine DELETE FROM human WHERE human.weight < ?\n",
      "2023-10-14 13:34:24,532 INFO sqlalchemy.engine.Engine [generated in 0.00136s] (60,)\n"
     ]
    },
    {
     "data": {
      "text/plain": [
       "2"
      ]
     },
     "execution_count": 31,
     "metadata": {},
     "output_type": "execute_result"
    }
   ],
   "source": [
    "session.query(Human).filter(Human.weight<60).delete()"
   ]
  },
  {
   "cell_type": "code",
   "execution_count": 32,
   "metadata": {},
   "outputs": [
    {
     "name": "stdout",
     "output_type": "stream",
     "text": [
      "2023-10-14 13:34:26,897 INFO sqlalchemy.engine.Engine COMMIT\n"
     ]
    }
   ],
   "source": [
    "session.commit()"
   ]
  },
  {
   "cell_type": "code",
   "execution_count": 38,
   "metadata": {},
   "outputs": [
    {
     "name": "stdout",
     "output_type": "stream",
     "text": [
      "2023-10-14 13:38:11,679 INFO sqlalchemy.engine.Engine SELECT * FROM human WHERE id = ?\n",
      "2023-10-14 13:38:11,680 INFO sqlalchemy.engine.Engine [cached since 47.27s ago] (4,)\n"
     ]
    }
   ],
   "source": [
    "result_list = session.execute('SELECT * FROM human WHERE id = :id',{\"id\":4})"
   ]
  },
  {
   "cell_type": "code",
   "execution_count": 39,
   "metadata": {},
   "outputs": [
    {
     "name": "stdout",
     "output_type": "stream",
     "text": [
      "(4, 'from_model', 100.0, 99.9)\n"
     ]
    }
   ],
   "source": [
    "for result in result_list:\n",
    "    print(result)"
   ]
  },
  {
   "cell_type": "code",
   "execution_count": null,
   "metadata": {},
   "outputs": [],
   "source": [
    "session.close()"
   ]
  }
 ],
 "metadata": {
  "kernelspec": {
   "display_name": ".venv",
   "language": "python",
   "name": "python3"
  },
  "language_info": {
   "codemirror_mode": {
    "name": "ipython",
    "version": 3
   },
   "file_extension": ".py",
   "mimetype": "text/x-python",
   "name": "python",
   "nbconvert_exporter": "python",
   "pygments_lexer": "ipython3",
   "version": "3.10.6"
  }
 },
 "nbformat": 4,
 "nbformat_minor": 2
}
